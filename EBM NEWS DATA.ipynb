{
 "cells": [
  {
   "cell_type": "code",
   "execution_count": 1,
   "metadata": {},
   "outputs": [],
   "source": [
    "from bs4 import BeautifulSoup\n",
    "import requests"
   ]
  },
  {
   "cell_type": "code",
   "execution_count": 5,
   "metadata": {},
   "outputs": [],
   "source": [
    "r1=requests.get('https://www.ebmnews.com/?s=NEWS+OF+2018')"
   ]
  },
  {
   "cell_type": "code",
   "execution_count": 7,
   "metadata": {},
   "outputs": [
    {
     "data": {
      "text/plain": [
       "'\\t<!DOCTYPE html>\\n\\t\\t<!--[if IE 8]>\\n\\t<html class=\"ie ie8\" lang=\"en-GB\"> <![endif]-->\\n\\t<!--[if IE 9]>\\n\\t<html class=\"ie ie9\" lang=\"en-GB\"> <![endif]-->\\n\\t<!--[if gt IE 9]><!-->\\n<html lang=\"en-GB\"> <!--<![endif]-->\\n\\t<head>\\n\\t\\t\\t\\t<meta charset=\"UTF-8\">\\n\\t\\t<meta http-equiv=\"X-UA-Compatible\" content=\"IE=edge\">\\n\\t\\t<meta name=\"viewport\" content=\"width=device-width, initial-scale=1.0\">\\n\\t\\t<link rel=\"pingback\" href=\"https://www.ebmnews.com/xmlrpc.php\"/>\\n\\n\\t\\t<title>Search Results for &#8220;NEWS OF 2018&#8221; &#8211; EBM News English</title>\\n\\n<!-- Better Open Graph, Schema.org & Twitter Integration -->\\n<meta property=\"og:locale\" content=\"en_gb\"/>\\n<meta property=\"og:site_name\" content=\"EBM News English\"/>\\n<meta property=\"og:url\" content=\"https://www.ebmnews.com/?s=NEWS+OF+2018\"/>\\n<meta property=\"og:title\" content=\"Search results for &#8220;NEWS OF 2018&#8221;\"/>\\n<meta property=\"og:description\" content=\"Latest News, English News, News Headlines, Breaking News\"/>\\n<meta property=\"og:type\" content=\"website\"/>\\n<meta name=\"twitter:card\" content=\"summary\"/>\\n<meta name=\"twitter:url\" content=\"https://www.ebmnews.com/?s=NEWS+OF+2018\"/>\\n<meta name=\"twitter:title\" content=\"Search results for &#8220;NEWS OF 2018&#8221;\"/>\\n<meta name=\"twitter:description\" content=\"Latest News, English News, News Headlines, Breaking News\"/>\\n<!-- / Better Open Graph, Schema.org & Twitter Integration. -->\\n<link rel=\\'dns-prefetch\\' href=\\'//www.googletagmanager.com\\' />\\n<link rel=\\'dns-prefetch\\' href=\\'//fonts.googleapis.com\\' />\\n<link rel=\\'dns-prefetch\\' href=\\'//s.w.org\\' />\\n<link rel=\"alternate\" type=\"application/rss+xml\" title=\"EBM News English &raquo; Feed\" href=\"https://www.ebmnews.com/feed/\" />\\n<link rel=\"alternate\" type=\"application/rss+xml\" title=\"EBM News English &raquo; Comments Feed\" href=\"https://www.ebmnews.com/comments/feed/\" />\\n<link rel=\"alternate\" type=\"application/rss+xml\" title=\"EBM News English &raquo; Search Results for &#8220;NEWS OF 2018&#8221; Feed\" href=\"https://www.ebmnews.com/search/NEWS+OF+2018/feed/rss2/\" />\\n\\t\\t<script type=\"text/javascript\">\\n\\t\\t\\twindow._wpemojiSettings = {\"baseUrl\":\"https:\\\\/\\\\/s.w.org\\\\/images\\\\/core\\\\/emoji\\\\/13.0.0\\\\/72x72\\\\/\",\"ext\":\".png\",\"svgUrl\":\"https:\\\\/\\\\/s.w.org\\\\/images\\\\/core\\\\/emoji\\\\/13.0.0\\\\/svg\\\\/\",\"svgExt\":\".svg\",\"source\":{\"concatemoji\":\"https:\\\\/\\\\/www.ebmnews.com\\\\/wp-includes\\\\/js\\\\/wp-emoji-release.min.js?ver=5.5.3\"}};\\n\\t\\t\\t!function(e,a,t){var r,n,o,i,p=a.createElement(\"canvas\"),s=p.getContext&&p.getContext(\"2d\");function c(e,t){var a=String.fromCharCode;s.clearRect(0,0,p.width,p.height),s.fillText(a.apply(this,e),0,0);var r=p.toDataURL();return s.clearRect(0,0,p.width,p.height),s.fillText(a.apply(this,t),0,0),r===p.toDataURL()}function l(e){if(!s||!s.fillText)return!1;switch(s.textBaseline=\"top\",s.font=\"600 32px Arial\",e){case\"flag\":return!c([127987,65039,8205,9895,65039],[127987,65039,8203,9895,65039])&&(!c([55356,56826,55356,56819],[55356,56826,8203,55356,56819])&&!c([55356,57332,56128,56423,56128,56418,56128,56421,56128,56430,56128,56423,56128,56447],[55356,57332,8203,56128,56423,8203,56128,56418,8203,56128,56421,8203,56128,56430,8203,56128,56423,8203,56128,56447]));case\"emoji\":return!c([55357,56424,8205,55356,57212],[55357,56424,8203,55356,57212])}return!1}function d(e){var t=a.createElement(\"script\");t.src=e,t.defer=t.type=\"text/javascript\",a.getElementsByTagName(\"head\")[0].appendChild(t)}for(i=Array(\"flag\",\"emoji\"),t.supports={everything:!0,everythingExceptFlag:!0},o=0;o<i.length;o++)t.supports[i[o]]=l(i[o]),t.supports.everything=t.supports.everything&&t.supports[i[o]],\"flag\"!==i[o]&&(t.supports.everythingExceptFlag=t.supports.everythingExceptFlag&&t.supports[i[o]]);t.supports.everythingExceptFlag=t.supports.everythingExceptFlag&&!t.supports.flag,t.DOMReady=!1,t.readyCallback=function(){t.DOMReady=!0},t.supports.everything||(n=function(){t.readyCallback()},a.addEventListener?(a.addEventListener(\"DOMContentLoaded\",n,!1),e.addEventListener(\"load\",n,!1)):(e.attachEvent(\"onload\",n),a.attachEvent(\"onreadystatechange\",function(){\"complete\"===a.readyState&&t.readyCallback()})),(r=t.source||{}).concatemoji?d(r.concatemoji):r.wpemoji&&r.twemoji&&(d(r.twemoji),d(r.wpemoji)))}(window,document,window._wpemojiSettings);\\n\\t\\t</script>\\n\\t\\t<style type=\"text/css\">\\nimg.wp-smiley,\\nimg.emoji {\\n\\tdisplay: inline !important;\\n\\tborder: none !important;\\n\\tbox-shadow: none !important;\\n\\theight: 1em !important;\\n\\twidth: 1em !important;\\n\\tmargin: 0 .07em !important;\\n\\tvertical-align: -0.1em !important;\\n\\tbackground: none !important;\\n\\tpadding: 0 !important;\\n}\\n</style>\\n\\t<link rel=\\'stylesheet\\' id=\\'wp-block-library-css\\'  href=\\'https://www.ebmnews.com/wp-includes/css/dist/block-library/style.min.css?ver=5.5.3\\' type=\\'text/css\\' media=\\'all\\' />\\n<link rel=\\'stylesheet\\' id=\\'contact-form-7-css\\'  href=\\'https://www.ebmnews.com/wp-content/plugins/contact-form-7/includes/css/styles.css?ver=5.2.2\\' type=\\'text/css\\' media=\\'all\\' />\\n<link rel=\\'stylesheet\\' id=\\'better-framework-main-fonts-css\\'  href=\\'https://fonts.googleapis.com/css?family=Roboto:400,700,500,400italic%7CRoboto+Condensed:700,400\\' type=\\'text/css\\' media=\\'all\\' />\\n<script type=\\'text/javascript\\' src=\\'https://www.ebmnews.com/wp-includes/js/jquery/jquery.js?ver=1.12.4-wp\\' id=\\'jquery-core-js\\'></script>\\n<script type=\\'text/javascript\\' src=\\'https://www.googletagmanager.com/gtag/js?id=UA-111556645-1\\' id=\\'google_gtagjs-js\\'></script>\\n<script type=\\'text/javascript\\' id=\\'google_gtagjs-js-after\\'>\\nwindow.dataLayer = window.dataLayer || [];function gtag(){dataLayer.push(arguments);}\\ngtag(\\'js\\', new Date());\\ngtag(\\'set\\', \\'developer_id.dZTNiMT\\', true);\\ngtag(\\'config\\', \\'UA-111556645-1\\', {\"anonymize_ip\":true,\"optimize_id\":\"OPT-M3TXCR2\"} );\\n</script>\\n<!--[if lt IE 9]>\\n<script type=\\'text/javascript\\' src=\\'https://www.ebmnews.com/wp-content/themes/ebmnews/includes/libs/better-framework/assets/js/html5shiv.min.js?ver=3.10.15\\' id=\\'bf-html5shiv-js\\'></script>\\n<![endif]-->\\n<!--[if lt IE 9]>\\n<script type=\\'text/javascript\\' src=\\'https://www.ebmnews.com/wp-content/themes/ebmnews/includes/libs/better-framework/assets/js/respond.min.js?ver=3.10.15\\' id=\\'bf-respond-js\\'></script>\\n<![endif]-->\\n<link rel=\"https://api.w.org/\" href=\"https://www.ebmnews.com/wp-json/\" /><link rel=\"EditURI\" type=\"application/rsd+xml\" title=\"RSD\" href=\"https://www.ebmnews.com/xmlrpc.php?rsd\" />\\n<link rel=\"wlwmanifest\" type=\"application/wlwmanifest+xml\" href=\"https://www.ebmnews.com/wp-includes/wlwmanifest.xml\" /> \\n<meta name=\"generator\" content=\"WordPress 5.5.3\" />\\n<meta name=\"generator\" content=\"Site Kit by Google 1.16.0\" /><meta name=\"google-site-verification\" content=\"U0zBsog_XpP83GVBEVKMocKUSkSOpN8RmKWNbhc6kB8\" />\\t\\t\\t<link rel=\"shortcut icon\" href=\"https://www.ebmnews.com/wp-content/uploads/2020/04/favicon16.png\">\\t\\t\\t<link rel=\"apple-touch-icon\" href=\"https://www.ebmnews.com/wp-content/uploads/2020/04/favicon57.png\">\\t\\t\\t<link rel=\"apple-touch-icon\" sizes=\"114x114\" href=\"https://www.ebmnews.com/wp-content/uploads/2020/04/favicon144.png\">\\t\\t\\t<link rel=\"apple-touch-icon\" sizes=\"72x72\" href=\"https://www.ebmnews.com/wp-content/uploads/2020/04/favicon72.png\">\\t\\t\\t<link rel=\"apple-touch-icon\" sizes=\"144x144\" href=\"https://www.ebmnews.com/wp-content/uploads/2020/04/favicon144.png\"><meta name=\"generator\" content=\"Powered by WPBakery Page Builder - drag and drop page builder for WordPress.\"/>\\n<script type=\"application/ld+json\">{\\n    \"@context\": \"http:\\\\/\\\\/schema.org\\\\/\",\\n    \"@type\": \"organization\",\\n    \"@id\": \"#organization\",\\n    \"logo\": {\\n        \"@type\": \"ImageObject\",\\n        \"url\": \"https:\\\\/\\\\/www.ebmnews.com\\\\/wp-content\\\\/uploads\\\\/2018\\\\/05\\\\/EBM-News-LOGO.png\"\\n    },\\n    \"url\": \"https:\\\\/\\\\/www.ebmnews.com\\\\/\",\\n    \"name\": \"EBM News English\",\\n    \"description\": \"Latest News, English News, News Headlines, Breaking News\"\\n}</script>\\n<script type=\"application/ld+json\">{\\n    \"@context\": \"http:\\\\/\\\\/schema.org\\\\/\",\\n    \"@type\": \"WebSite\",\\n    \"name\": \"EBM News English\",\\n    \"alternateName\": \"Latest News, English News, News Headlines, Breaking News\",\\n    \"url\": \"https:\\\\/\\\\/www.ebmnews.com\\\\/\"\\n}</script>\\n<script async src=\"//pagead2.googlesyndication.com/pagead/js/adsbygoogle.js\"></script> <script>\\n(adsbygoogle = window.adsbygoogle || []).push({\\ngoogle_ad_client: \"ca-pub-1320937060909444\",\\nenable_page_level_ads: true,\\ntag_partner: \"site_kit\"\\n});\\n</script>\\n\\t\\t\\t\\t<!-- Google Tag Manager added by Site Kit -->\\n\\t\\t<script>( function( w, d, s, l, i ) {\\n\\t\\t\\t\\tw[l] = w[l] || [];\\n\\t\\t\\t\\tw[l].push( {\\'gtm.start\\': new Date().getTime(), event: \\'gtm.js\\'} );\\n\\t\\t\\t\\tvar f = d.getElementsByTagName( s )[0],\\n\\t\\t\\t\\t\\tj = d.createElement( s ), dl = l != \\'dataLayer\\' ? \\'&l=\\' + l : \\'\\';\\n\\t\\t\\t\\tj.async = true;\\n\\t\\t\\t\\tj.src = \\'https://www.googletagmanager.com/gtm.js?id=\\' + i + dl;\\n\\t\\t\\t\\tf.parentNode.insertBefore( j, f );\\n\\t\\t\\t} )( window, document, \\'script\\', \\'dataLayer\\', \\'GTM-P5NT2BJ\\' );\\n\\t\\t</script>\\n\\t\\t<!-- End Google Tag Manager -->\\n\\t\\t<link rel=\\'stylesheet\\' id=\\'bf-minifed-css-1\\' href=\\'https://www.ebmnews.com/wp-content/bs-booster-cache/859e13b14ca6b75a6704a226e7410a66.css\\' type=\\'text/css\\' media=\\'all\\' />\\n<link rel=\\'stylesheet\\' id=\\'7.6.2-1604655142\\' href=\\'https://www.ebmnews.com/wp-content/bs-booster-cache/15650cc5a42da4a36e7b0df609948732.css\\' type=\\'text/css\\' media=\\'all\\' />\\n<noscript><style> .wpb_animate_when_almost_visible { opacity: 1; }</style></noscript>\\t</head>\\n\\n<body class=\"search search-results bs-theme bs-publisher bs-publisher-world-news active-light-box ltr close-rh page-layout-2-col-right full-width active-sticky-sidebar main-menu-sticky-smart active-ajax-search  wpb-js-composer js-comp-ver-6.2.0 vc_responsive bs-ll-a\" dir=\"ltr\">\\n<div class=\"off-canvas-overlay\"></div>\\n<div class=\"off-canvas-container left skin-white\">\\n\\t<div class=\"off-canvas-inner\">\\n\\t\\t<span class=\"canvas-close\"><i></i></span>\\n\\t\\t\\t\\t\\t<div class=\"off-canvas-header\">\\n\\t\\t\\t\\t\\t\\t\\t\\t\\t<div class=\"site-name\">EBM News</div>\\n\\t\\t\\t\\t\\t\\t\\t\\t\\t<div class=\"site-description\">EBM News</div>\\n\\t\\t\\t</div>\\n\\t\\t\\t\\t\\t\\t<div class=\"off-canvas-search\">\\n\\t\\t\\t\\t<form role=\"search\" method=\"get\" action=\"https://www.ebmnews.com\">\\n\\t\\t\\t\\t\\t<input type=\"text\" name=\"s\" value=\"NEWS OF 2018\"\\n\\t\\t\\t\\t\\t       placeholder=\"Search...\">\\n\\t\\t\\t\\t\\t<i class=\"fa fa-search\"></i>\\n\\t\\t\\t\\t</form>\\n\\t\\t\\t</div>\\n\\t\\t\\t\\t\\t\\t<div class=\"off-canvas-menu\">\\n\\t\\t\\t\\t<div class=\"off-canvas-menu-fallback\"></div>\\n\\t\\t\\t</div>\\n\\t\\t\\t\\t\\t\\t<div class=\"off_canvas_footer\">\\n\\t\\t\\t\\t<div class=\"off_canvas_footer-info entry-content\">\\n\\t\\t\\t\\t\\t\\t\\t\\t\\t</div>\\n\\t\\t\\t</div>\\n\\t\\t\\t\\t</div>\\n</div>\\n\\t\\t<div class=\"main-wrap content-main-wrap\">\\n\\t\\t\\t<header id=\"header\" class=\"site-header header-style-2 full-width\" itemscope=\"itemscope\" itemtype=\"https://schema.org/WPHeader\">\\n\\n\\t\\t<section class=\"topbar topbar-style-1 hidden-xs hidden-xs\">\\n\\t<div class=\"content-wrap\">\\n\\t\\t<div class=\"container\">\\n\\t\\t\\t<div class=\"topbar-inner clearfix\">\\n\\n\\t\\t\\t\\t\\n\\t\\t\\t\\t<div class=\"section-menu\">\\n\\t\\t\\t\\t\\t\\t<div id=\"menu-top\" class=\"menu top-menu-wrapper\" role=\"navigation\" itemscope=\"itemscope\" itemtype=\"https://schema.org/SiteNavigationElement\">\\n\\t\\t<nav class=\"top-menu-container\">\\n\\n\\t\\t\\t<ul id=\"top-navigation\" class=\"top-menu menu clearfix bsm-pure\">\\n\\t\\t\\t\\t\\t\\t\\t\\t\\t<li id=\"topbar-date\" class=\"menu-item menu-item-date\">\\n\\t\\t\\t\\t\\t<span\\n\\t\\t\\t\\t\\t\\tclass=\"topbar-date\">Saturday, December 26, 2020</span>\\n\\t\\t\\t\\t\\t</li>\\n\\t\\t\\t\\t\\t<li id=\"menu-item-63969\" class=\"menu-item menu-item-type-custom menu-item-object-custom menu-item-home better-anim-fade menu-item-63969\"><a href=\"https://www.ebmnews.com\">EBM News English</a></li>\\n<li id=\"menu-item-63970\" class=\"menu-item menu-item-type-custom menu-item-object-custom better-anim-fade menu-item-63970\"><a href=\"https://hindi.ebmnews.com\">EBM News Hindi</a></li>\\n<li id=\"menu-item-63971\" class=\"menu-item menu-item-type-custom menu-item-object-custom better-anim-fade menu-item-63971\"><a href=\"https://malayalam.ebmnews.com\">EBM News Malayalam</a></li>\\n<li id=\"menu-item-63972\" class=\"menu-item menu-item-type-custom menu-item-object-custom better-anim-fade menu-item-63972\"><a href=\"https://tamil.ebmnews.com\">EBM News Tamil</a></li>\\n<li id=\"menu-item-63973\" class=\"menu-item menu-item-type-custom menu-item-object-custom better-anim-fade menu-item-63973\"><a href=\"https://telugu.ebmnews.com\">EBM News Telugu</a></li>\\n<li id=\"menu-item-63974\" class=\"menu-item menu-item-type-custom menu-item-object-custom better-anim-fade menu-item-63974\"><a href=\"https://kannada.ebmnews.com\">EBM News Kannada</a></li>\\n\\t\\t\\t</ul>\\n\\n\\t\\t</nav>\\n\\t</div>\\n\\t\\t\\t\\t</div>\\n\\t\\t\\t</div>\\n\\t\\t</div>\\n\\t</div>\\n</section>\\n\\t\\t<div class=\"header-inner\">\\n\\t\\t\\t<div class=\"content-wrap\">\\n\\t\\t\\t\\t<div class=\"container\">\\n\\t\\t\\t\\t\\t<div class=\"row\">\\n\\t\\t\\t\\t\\t\\t<div class=\"row-height\">\\n\\t\\t\\t\\t\\t\\t\\t<div class=\"logo-col col-xs-12\">\\n\\t\\t\\t\\t\\t\\t\\t\\t<div class=\"col-inside\">\\n\\t\\t\\t\\t\\t\\t\\t\\t\\t<div id=\"site-branding\" class=\"site-branding\">\\n\\t<p  id=\"site-title\" class=\"logo h1 img-logo\">\\n\\t<a href=\"https://www.ebmnews.com/\" itemprop=\"url\" rel=\"home\">\\n\\t\\t\\t\\t\\t<img id=\"site-logo\" src=\"https://www.ebmnews.com/wp-content/uploads/2018/05/EBM-News-LOGO.png\"\\n\\t\\t\\t     alt=\"EBM News\"  />\\n\\n\\t\\t\\t<span class=\"site-title\">EBM News - Latest News, English News, News Headlines, Breaking News</span>\\n\\t\\t\\t\\t</a>\\n</p>\\n</div><!-- .site-branding -->\\n\\t\\t\\t\\t\\t\\t\\t\\t</div>\\n\\t\\t\\t\\t\\t\\t\\t</div>\\n\\t\\t\\t\\t\\t\\t\\t\\t\\t\\t\\t\\t\\t</div>\\n\\t\\t\\t\\t\\t</div>\\n\\t\\t\\t\\t</div>\\n\\t\\t\\t</div>\\n\\t\\t</div>\\n\\n\\t\\t<div id=\"menu-main\" class=\"menu main-menu-wrapper show-search-item show-off-canvas menu-actions-btn-width-2\" role=\"navigation\" itemscope=\"itemscope\" itemtype=\"https://schema.org/SiteNavigationElement\">\\n\\t<div class=\"main-menu-inner\">\\n\\t\\t<div class=\"content-wrap\">\\n\\t\\t\\t<div class=\"container\">\\n\\n\\t\\t\\t\\t<nav class=\"main-menu-container\">\\n\\t\\t\\t\\t\\t<ul id=\"main-navigation\" class=\"main-menu menu bsm-pure clearfix\">\\n\\t\\t\\t\\t\\t\\t<li id=\"menu-item-63977\" class=\"menu-item menu-item-type-post_type menu-item-object-page menu-item-home better-anim-fade menu-item-63977\"><a href=\"https://www.ebmnews.com/\">News</a></li>\\n<li id=\"menu-item-63966\" class=\"menu-item menu-item-type-taxonomy menu-item-object-category menu-term-5 better-anim-fade menu-item-63966\"><a href=\"https://www.ebmnews.com/category/delhi/\">Delhi</a></li>\\n<li id=\"menu-item-63967\" class=\"menu-item menu-item-type-taxonomy menu-item-object-category menu-term-10 better-anim-fade menu-item-63967\"><a href=\"https://www.ebmnews.com/category/national/\">National</a></li>\\n<li id=\"menu-item-63959\" class=\"menu-item menu-item-type-taxonomy menu-item-object-category menu-term-17 better-anim-fade menu-item-63959\"><a href=\"https://www.ebmnews.com/category/world/\">World</a></li>\\n<li id=\"menu-item-63968\" class=\"menu-item menu-item-type-taxonomy menu-item-object-category menu-term-13 better-anim-fade menu-item-63968\"><a href=\"https://www.ebmnews.com/category/sports/\">Sports</a></li>\\n<li id=\"menu-item-63962\" class=\"menu-item menu-item-type-taxonomy menu-item-object-category menu-term-6 better-anim-fade menu-item-63962\"><a href=\"https://www.ebmnews.com/category/entertainment/\">Entertainment</a></li>\\n<li id=\"menu-item-63960\" class=\"menu-item menu-item-type-taxonomy menu-item-object-category menu-term-14 better-anim-fade menu-item-63960\"><a href=\"https://www.ebmnews.com/category/technology/\">Technology</a></li>\\n<li id=\"menu-item-63964\" class=\"menu-item menu-item-type-taxonomy menu-item-object-category menu-term-3 better-anim-fade menu-item-63964\"><a href=\"https://www.ebmnews.com/category/business/\">Business</a></li>\\n<li id=\"menu-item-63961\" class=\"menu-item menu-item-type-taxonomy menu-item-object-category menu-term-7 better-anim-fade menu-item-63961\"><a href=\"https://www.ebmnews.com/category/lifestyle/\">Lifestyle</a></li>\\n<li id=\"menu-item-63963\" class=\"menu-item menu-item-type-taxonomy menu-item-object-category menu-term-2 better-anim-fade menu-item-63963\"><a href=\"https://www.ebmnews.com/category/automotive/\">Automotive</a></li>\\n<li id=\"menu-item-63965\" class=\"menu-item menu-item-type-taxonomy menu-item-object-category menu-term-4 better-anim-fade menu-item-63965\"><a href=\"https://www.ebmnews.com/category/crime/\">Crime</a></li>\\n\\t\\t\\t\\t\\t</ul><!-- #main-navigation -->\\n\\t\\t\\t\\t\\t\\t\\t\\t\\t\\t\\t<div class=\"menu-action-buttons width-2\">\\n\\t\\t\\t\\t\\t\\t\\t\\t\\t\\t\\t\\t\\t\\t\\t<div class=\"off-canvas-menu-icon-container off-icon-left\">\\n\\t\\t\\t\\t\\t\\t\\t\\t\\t<div class=\"off-canvas-menu-icon\">\\n\\t\\t\\t\\t\\t\\t\\t\\t\\t\\t<div class=\"off-canvas-menu-icon-el\"></div>\\n\\t\\t\\t\\t\\t\\t\\t\\t\\t</div>\\n\\t\\t\\t\\t\\t\\t\\t\\t</div>\\n\\t\\t\\t\\t\\t\\t\\t\\t\\t\\t\\t\\t\\t\\t\\t\\t<div class=\"search-container close\">\\n\\t\\t\\t\\t\\t\\t\\t\\t\\t<span class=\"search-handler\"><i class=\"fa fa-search\"></i></span>\\n\\n\\t\\t\\t\\t\\t\\t\\t\\t\\t<div class=\"search-box clearfix\">\\n\\t\\t\\t\\t\\t\\t\\t\\t\\t\\t<form role=\"search\" method=\"get\" class=\"search-form clearfix\" action=\"https://www.ebmnews.com\">\\n\\t<input type=\"search\" class=\"search-field\"\\n\\t       placeholder=\"Search...\"\\n\\t       value=\"NEWS OF 2018\" name=\"s\"\\n\\t       title=\"Search for:\"\\n\\t       autocomplete=\"off\">\\n\\t<input type=\"submit\" class=\"search-submit\" value=\"Search\">\\n</form><!-- .search-form -->\\n\\t\\t\\t\\t\\t\\t\\t\\t\\t</div>\\n\\t\\t\\t\\t\\t\\t\\t\\t</div>\\n\\t\\t\\t\\t\\t\\t\\t\\t\\t\\t\\t\\t\\t\\t</div>\\n\\t\\t\\t\\t\\t\\t\\t\\t\\t\\t</nav><!-- .main-menu-container -->\\n\\n\\t\\t\\t</div>\\n\\t\\t</div>\\n\\t</div>\\n</div><!-- .menu -->\\n\\t</header><!-- .header -->\\n\\t<div class=\"rh-header clearfix dark deferred-block-exclude\">\\n\\t\\t<div class=\"rh-container clearfix\">\\n\\n\\t\\t\\t<div class=\"menu-container close\">\\n\\t\\t\\t\\t<span class=\"menu-handler\"><span class=\"lines\"></span></span>\\n\\t\\t\\t</div><!-- .menu-container -->\\n\\n\\t\\t\\t<div class=\"logo-container rh-img-logo\">\\n\\t\\t\\t\\t<a href=\"https://www.ebmnews.com/\" itemprop=\"url\" rel=\"home\">\\n\\t\\t\\t\\t\\t\\t\\t\\t\\t\\t\\t<img src=\"https://www.ebmnews.com/wp-content/uploads/2018/05/EBM-News-LOGO.png\"\\n\\t\\t\\t\\t\\t\\t     alt=\"EBM News English\"  />\\t\\t\\t\\t</a>\\n\\t\\t\\t</div><!-- .logo-container -->\\n\\t\\t</div><!-- .rh-container -->\\n\\t</div><!-- .rh-header -->\\n<nav role=\"navigation\" aria-label=\"Breadcrumbs\" class=\"bf-breadcrumb clearfix bc-top-style\"><div class=\"container bf-breadcrumb-container\"><ul class=\"bf-breadcrumb-items\" itemscope itemtype=\"http://schema.org/BreadcrumbList\"><meta name=\"numberOfItems\" content=\"2\" /><meta name=\"itemListOrder\" content=\"Ascending\" /><li itemprop=\"itemListElement\" itemscope itemtype=\"http://schema.org/ListItem\" class=\"bf-breadcrumb-item bf-breadcrumb-begin\"><a itemprop=\"item\" href=\"https://www.ebmnews.com\" rel=\"home\"\"><span itemprop=\\'name\\'>Home</span><meta itemprop=\"position\" content=\"1\" /></a></li><li itemprop=\"itemListElement\" itemscope itemtype=\"http://schema.org/ListItem\" class=\"bf-breadcrumb-item bf-breadcrumb-end\"><span itemprop=\\'name\\'>Search results for &#8220;NEWS OF 2018&#8221;</span><meta itemprop=\"position\" content=\"2\" /><meta itemprop=\"item\" content=\"https://www.ebmnews.com/search/NEWS+OF+2018/\"/></li></ul></div></nav><div class=\"content-wrap\">\\n\\t\\t<main id=\"content\" class=\"content-container\">\\n\\n\\t\\t<div class=\"container layout-2-col layout-2-col-1 layout-right-sidebar layout-bc-before\">\\n\\t\\t\\t<div class=\"row main-section\">\\n\\t\\t\\t\\t\\t\\t\\t\\t\\t\\t<div class=\"col-sm-8 content-column\">\\n\\t\\t\\t\\t\\t\\t\\t<div class=\"search-header\">\\n\\t<form role=\"search\" method=\"get\" class=\"search-form clearfix\" action=\"https://www.ebmnews.com\">\\n\\t<input type=\"search\" class=\"search-field\"\\n\\t       placeholder=\"Search...\"\\n\\t       value=\"NEWS OF 2018\" name=\"s\"\\n\\t       title=\"Search for:\"\\n\\t       autocomplete=\"off\">\\n\\t<input type=\"submit\" class=\"search-submit\" value=\"Search\">\\n</form><!-- .search-form -->\\n</div>\\n\\t<div class=\"listing listing-blog listing-blog-1 clearfix  columns-1\">\\n\\t\\t<article class=\"post-107670 type-post format-standard has-post-thumbnail   listing-item listing-item-blog  listing-item-blog-1 main-term-17 bsw-9 \">\\n\\t\\t<div class=\"item-inner clearfix\">\\n\\t\\t\\t\\t\\t\\t\\t<div class=\"featured clearfix\">\\n\\t\\t\\t\\t\\t\\t\\t\\t\\t\\t<a  title=\"Facebook apologises for role in 2018 communal unrest in Sri Lanka\" data-src=\"https://www.ebmnews.com/wp-content/uploads/2020/05/Facebook_Reuters-210x136.jpg\" data-bs-srcset=\"{&quot;baseurl&quot;:&quot;https:\\\\/\\\\/www.ebmnews.com\\\\/wp-content\\\\/uploads\\\\/2020\\\\/05\\\\/&quot;,&quot;sizes&quot;:{&quot;86&quot;:&quot;Facebook_Reuters-86x64.jpg&quot;,&quot;210&quot;:&quot;Facebook_Reuters-210x136.jpg&quot;,&quot;279&quot;:&quot;Facebook_Reuters-279x220.jpg&quot;,&quot;357&quot;:&quot;Facebook_Reuters-357x210.jpg&quot;,&quot;750&quot;:&quot;Facebook_Reuters-750x430.jpg&quot;,&quot;900&quot;:&quot;Facebook_Reuters.jpg&quot;}}\"\\t\\t\\t\\t\\t\\t\\tclass=\"img-holder\" href=\"https://www.ebmnews.com/facebook-apologises-for-role-in-2018-communal-unrest-in-sri-lanka/\"></a>\\n\\t\\t\\t\\t\\t\\t\\t\\t\\t</div>\\n\\t\\t\\t<h2 class=\"title\">\\t\\t\\t<a href=\"https://www.ebmnews.com/facebook-apologises-for-role-in-2018-communal-unrest-in-sri-lanka/\" class=\"post-url post-title\">\\n\\t\\t\\t\\tFacebook apologises for role in 2018 communal unrest in Sri Lanka\\t\\t\\t</a>\\n\\t\\t\\t</h2>\\t\\t<div class=\"post-meta\">\\n\\n\\t\\t\\t\\t\\t\\t\\t<a href=\"https://www.ebmnews.com/author/reporter/\"\\n\\t\\t\\t\\t   title=\"Browse Author Articles\"\\n\\t\\t\\t\\t   class=\"post-author-a\">\\n\\t\\t\\t\\t\\t<i class=\"post-author author\">\\n\\t\\t\\t\\t\\t\\tReporter\\t\\t\\t\\t\\t</i>\\n\\t\\t\\t\\t</a>\\n\\t\\t\\t\\t\\t\\t\\t<span class=\"time\"><time class=\"post-published updated\"\\n\\t\\t\\t\\t                         datetime=\"2020-05-14T09:47:19+05:30\">May 14, 2020</time></span>\\n\\t\\t\\t\\t\\t\\t</div>\\n\\t\\t\\t\\t\\t\\t<div class=\"post-summary\">\\n\\t\\t\\t\\t\\tHONGKONG:\\xa0Facebook\\xa0has apologised for its role in the deadly communal unrest that shook Sri Lanka two years ago after an&hellip;\\t\\t\\t\\t</div>\\n\\t\\t\\t\\t\\t\\t</div>\\n\\t</article>\\n\\t<article class=\"post-70603 type-post format-standard has-post-thumbnail   listing-item listing-item-blog  listing-item-blog-1 main-term-13 bsw-9 \">\\n\\t\\t<div class=\"item-inner clearfix\">\\n\\t\\t\\t\\t\\t\\t\\t<div class=\"featured clearfix\">\\n\\t\\t\\t\\t\\t\\t\\t\\t\\t\\t<a  title=\"Uruguayan newspaper gives football award to Martinez, Gallardo\" data-src=\"https://www.ebmnews.com/wp-content/uploads/2019/01/1bf330af1aab7602418014999e4a4a33-210x136.jpg\" data-bs-srcset=\"{&quot;baseurl&quot;:&quot;https:\\\\/\\\\/www.ebmnews.com\\\\/wp-content\\\\/uploads\\\\/2019\\\\/01\\\\/&quot;,&quot;sizes&quot;:{&quot;86&quot;:&quot;1bf330af1aab7602418014999e4a4a33-86x64.jpg&quot;,&quot;210&quot;:&quot;1bf330af1aab7602418014999e4a4a33-210x136.jpg&quot;,&quot;279&quot;:&quot;1bf330af1aab7602418014999e4a4a33-279x220.jpg&quot;,&quot;357&quot;:&quot;1bf330af1aab7602418014999e4a4a33-357x210.jpg&quot;,&quot;500&quot;:&quot;1bf330af1aab7602418014999e4a4a33.jpg&quot;}}\"\\t\\t\\t\\t\\t\\t\\tclass=\"img-holder\" href=\"https://www.ebmnews.com/uruguayan-newspaper-gives-football-award-to-martinez-gallardo/\"></a>\\n\\t\\t\\t\\t\\t\\t\\t\\t\\t</div>\\n\\t\\t\\t<h2 class=\"title\">\\t\\t\\t<a href=\"https://www.ebmnews.com/uruguayan-newspaper-gives-football-award-to-martinez-gallardo/\" class=\"post-url post-title\">\\n\\t\\t\\t\\tUruguayan newspaper gives football award to Martinez, Gallardo\\t\\t\\t</a>\\n\\t\\t\\t</h2>\\t\\t<div class=\"post-meta\">\\n\\n\\t\\t\\t\\t\\t\\t\\t<a href=\"https://www.ebmnews.com/author/reporter/\"\\n\\t\\t\\t\\t   title=\"Browse Author Articles\"\\n\\t\\t\\t\\t   class=\"post-author-a\">\\n\\t\\t\\t\\t\\t<i class=\"post-author author\">\\n\\t\\t\\t\\t\\t\\tReporter\\t\\t\\t\\t\\t</i>\\n\\t\\t\\t\\t</a>\\n\\t\\t\\t\\t\\t\\t\\t<span class=\"time\"><time class=\"post-published updated\"\\n\\t\\t\\t\\t                         datetime=\"2019-01-01T18:15:32+05:30\">Jan 1, 2019</time></span>\\n\\t\\t\\t\\t\\t\\t</div>\\n\\t\\t\\t\\t\\t\\t<div class=\"post-summary\">\\n\\t\\t\\t\\t\\tArgentine player Gonzalo \"Pity\" Martinez and manager Marcelo \"Muñeco\" Gallardo were awarded the Rey de America football prizes by&hellip;\\t\\t\\t\\t</div>\\n\\t\\t\\t\\t\\t\\t</div>\\n\\t</article>\\n\\t<article class=\"post-69423 type-post format-standard has-post-thumbnail   listing-item listing-item-blog  listing-item-blog-1 main-term-6 bsw-9 \">\\n\\t\\t<div class=\"item-inner clearfix\">\\n\\t\\t\\t\\t\\t\\t\\t<div class=\"featured clearfix\">\\n\\t\\t\\t\\t\\t\\t\\t\\t\\t\\t<a  title=\"Actress Priya Varrier most searched personality on Google in 2018\" data-src=\"https://www.ebmnews.com/wp-content/uploads/2018/12/6f9704fd2143254ffa923cca366930c5-210x136.jpg\" data-bs-srcset=\"{&quot;baseurl&quot;:&quot;https:\\\\/\\\\/www.ebmnews.com\\\\/wp-content\\\\/uploads\\\\/2018\\\\/12\\\\/&quot;,&quot;sizes&quot;:{&quot;86&quot;:&quot;6f9704fd2143254ffa923cca366930c5-86x64.jpg&quot;,&quot;210&quot;:&quot;6f9704fd2143254ffa923cca366930c5-210x136.jpg&quot;,&quot;279&quot;:&quot;6f9704fd2143254ffa923cca366930c5-279x220.jpg&quot;,&quot;357&quot;:&quot;6f9704fd2143254ffa923cca366930c5-357x210.jpg&quot;,&quot;600&quot;:&quot;6f9704fd2143254ffa923cca366930c5.jpg&quot;}}\"\\t\\t\\t\\t\\t\\t\\tclass=\"img-holder\" href=\"https://www.ebmnews.com/actress-priya-varrier-most-searched-personality-on-google-in-2018/\"></a>\\n\\t\\t\\t\\t\\t\\t\\t\\t\\t</div>\\n\\t\\t\\t<h2 class=\"title\">\\t\\t\\t<a href=\"https://www.ebmnews.com/actress-priya-varrier-most-searched-personality-on-google-in-2018/\" class=\"post-url post-title\">\\n\\t\\t\\t\\tActress Priya Varrier most searched personality on Google in 2018\\t\\t\\t</a>\\n\\t\\t\\t</h2>\\t\\t<div class=\"post-meta\">\\n\\n\\t\\t\\t\\t\\t\\t\\t<a href=\"https://www.ebmnews.com/author/reporter/\"\\n\\t\\t\\t\\t   title=\"Browse Author Articles\"\\n\\t\\t\\t\\t   class=\"post-author-a\">\\n\\t\\t\\t\\t\\t<i class=\"post-author author\">\\n\\t\\t\\t\\t\\t\\tReporter\\t\\t\\t\\t\\t</i>\\n\\t\\t\\t\\t</a>\\n\\t\\t\\t\\t\\t\\t\\t<span class=\"time\"><time class=\"post-published updated\"\\n\\t\\t\\t\\t                         datetime=\"2018-12-12T19:08:53+05:30\">Dec 12, 2018</time></span>\\n\\t\\t\\t\\t\\t\\t</div>\\n\\t\\t\\t\\t\\t\\t<div class=\"post-summary\">\\n\\t\\t\\t\\t\\tNew Delhi: Malayalam actress Priya Prakash Varrier, who shot to fame following her \\'wink song\\' \\'Manikya Malaraya Poovi...\\' from&hellip;\\t\\t\\t\\t</div>\\n\\t\\t\\t\\t\\t\\t</div>\\n\\t</article>\\n\\t<article class=\"post-67752 type-post format-standard has-post-thumbnail   listing-item listing-item-blog  listing-item-blog-1 main-term-13 bsw-9 \">\\n\\t\\t<div class=\"item-inner clearfix\">\\n\\t\\t\\t\\t\\t\\t\\t<div class=\"featured clearfix\">\\n\\t\\t\\t\\t\\t\\t\\t\\t\\t\\t<a  title=\"Asian Games 2018: Weightlifter Mirabai Chanu pulls out\" data-src=\"https://www.ebmnews.com/wp-content/uploads/2018/08/IMAGE94077746-210x136.jpg\" data-bs-srcset=\"{&quot;baseurl&quot;:&quot;https:\\\\/\\\\/www.ebmnews.com\\\\/wp-content\\\\/uploads\\\\/2018\\\\/08\\\\/&quot;,&quot;sizes&quot;:{&quot;86&quot;:&quot;IMAGE94077746-86x64.jpg&quot;,&quot;210&quot;:&quot;IMAGE94077746-210x136.jpg&quot;,&quot;279&quot;:&quot;IMAGE94077746-279x220.jpg&quot;,&quot;357&quot;:&quot;IMAGE94077746-357x210.jpg&quot;,&quot;599&quot;:&quot;IMAGE94077746.jpg&quot;}}\"\\t\\t\\t\\t\\t\\t\\tclass=\"img-holder\" href=\"https://www.ebmnews.com/asian-games-2018-weightlifter-mirabai-chanu-pulls-out/\"></a>\\n\\t\\t\\t\\t\\t\\t\\t\\t\\t</div>\\n\\t\\t\\t<h2 class=\"title\">\\t\\t\\t<a href=\"https://www.ebmnews.com/asian-games-2018-weightlifter-mirabai-chanu-pulls-out/\" class=\"post-url post-title\">\\n\\t\\t\\t\\tAsian Games 2018: Weightlifter Mirabai Chanu pulls out\\t\\t\\t</a>\\n\\t\\t\\t</h2>\\t\\t<div class=\"post-meta\">\\n\\n\\t\\t\\t\\t\\t\\t\\t<a href=\"https://www.ebmnews.com/author/reporter/\"\\n\\t\\t\\t\\t   title=\"Browse Author Articles\"\\n\\t\\t\\t\\t   class=\"post-author-a\">\\n\\t\\t\\t\\t\\t<i class=\"post-author author\">\\n\\t\\t\\t\\t\\t\\tReporter\\t\\t\\t\\t\\t</i>\\n\\t\\t\\t\\t</a>\\n\\t\\t\\t\\t\\t\\t\\t<span class=\"time\"><time class=\"post-published updated\"\\n\\t\\t\\t\\t                         datetime=\"2018-08-07T12:42:34+05:30\">Aug 7, 2018</time></span>\\n\\t\\t\\t\\t\\t\\t</div>\\n\\t\\t\\t\\t\\t\\t<div class=\"post-summary\">\\n\\t\\t\\t\\t\\tImphal, August 7: India\\'s Asian Games preparations suffered a major blow when world champion and Commonwealth Games gold-medallist&hellip;\\t\\t\\t\\t</div>\\n\\t\\t\\t\\t\\t\\t</div>\\n\\t</article>\\n\\t<article class=\"post-67446 type-post format-standard has-post-thumbnail   listing-item listing-item-blog  listing-item-blog-1 main-term-13 bsw-9 \">\\n\\t\\t<div class=\"item-inner clearfix\">\\n\\t\\t\\t\\t\\t\\t\\t<div class=\"featured clearfix\">\\n\\t\\t\\t\\t\\t\\t\\t\\t\\t\\t<a  title=\"Badminton World Championship 2018: Srikanth, Saina enter second round\" data-src=\"https://www.ebmnews.com/wp-content/uploads/2018/07/IMAGE93554782-1-210x136.jpg\" data-bs-srcset=\"{&quot;baseurl&quot;:&quot;https:\\\\/\\\\/www.ebmnews.com\\\\/wp-content\\\\/uploads\\\\/2018\\\\/07\\\\/&quot;,&quot;sizes&quot;:{&quot;86&quot;:&quot;IMAGE93554782-1-86x64.jpg&quot;,&quot;210&quot;:&quot;IMAGE93554782-1-210x136.jpg&quot;,&quot;279&quot;:&quot;IMAGE93554782-1-279x220.jpg&quot;,&quot;357&quot;:&quot;IMAGE93554782-1-357x210.jpg&quot;,&quot;599&quot;:&quot;IMAGE93554782-1.jpg&quot;}}\"\\t\\t\\t\\t\\t\\t\\tclass=\"img-holder\" href=\"https://www.ebmnews.com/badminton-world-championship-2018-srikanth-saina-enter-second-round/\"></a>\\n\\t\\t\\t\\t\\t\\t\\t\\t\\t</div>\\n\\t\\t\\t<h2 class=\"title\">\\t\\t\\t<a href=\"https://www.ebmnews.com/badminton-world-championship-2018-srikanth-saina-enter-second-round/\" class=\"post-url post-title\">\\n\\t\\t\\t\\tBadminton World Championship 2018: Srikanth, Saina enter second round\\t\\t\\t</a>\\n\\t\\t\\t</h2>\\t\\t<div class=\"post-meta\">\\n\\n\\t\\t\\t\\t\\t\\t\\t<a href=\"https://www.ebmnews.com/author/reporter/\"\\n\\t\\t\\t\\t   title=\"Browse Author Articles\"\\n\\t\\t\\t\\t   class=\"post-author-a\">\\n\\t\\t\\t\\t\\t<i class=\"post-author author\">\\n\\t\\t\\t\\t\\t\\tReporter\\t\\t\\t\\t\\t</i>\\n\\t\\t\\t\\t</a>\\n\\t\\t\\t\\t\\t\\t\\t<span class=\"time\"><time class=\"post-published updated\"\\n\\t\\t\\t\\t                         datetime=\"2018-07-31T14:47:41+05:30\">Jul 31, 2018</time></span>\\n\\t\\t\\t\\t\\t\\t</div>\\n\\t\\t\\t\\t\\t\\t<div class=\"post-summary\">\\n\\t\\t\\t\\t\\tNanjing, July 31: India\\'s Kidambi Srikanth entered the second round of the World Badminton Championship 2018 beating Nhat Nguyen&hellip;\\t\\t\\t\\t</div>\\n\\t\\t\\t\\t\\t\\t</div>\\n\\t</article>\\n\\t<article class=\"post-65401 type-post format-standard has-post-thumbnail   listing-item listing-item-blog  listing-item-blog-1 main-term-20 bsw-9 \">\\n\\t\\t<div class=\"item-inner clearfix\">\\n\\t\\t\\t\\t\\t\\t\\t<div class=\"featured clearfix\">\\n\\t\\t\\t\\t\\t\\t\\t\\t\\t\\t<a  title=\"Victor Wanyama, a Kenyan footballer who plays in the English Premier League (EPL), has called for setting up football academies to tap football talent in the East African nation.  Wanyama, who plays for London-based Tottenham Hotspur, said here on on Thursday that football schools initiate children at a young age thereby making them to develop interest in the game at a time when they are still able to follow instructions, reports Xinhua news agency.   &#8220;The football scene in Kenya needs academies if the national team ever hopes to compete against the best in the world, it needs to have a feeder pool where players graduate to the national level,&#8221; Wanyama said while conducting a training football training session for children aged between 9-14 years   He said initiating kids to football at an early age will help the development of the sport and Kenyan players.   The defensive midfielder, whose team finished in third place during the last season behind Manchester City and Manchester United, has scored a total of five goals for Tottenham since he joined the team in 2017.  &#8220;I am settled and happy at Spurs and leaving the team has not yet occurred in my mind at the moment,&#8221; the national team skipper told reporters.   The Tottenham midfielder said by engaging with the children in a training session, he was giving back to the community and according them a morale-boosting moment.  &#8220;Before I go back to England for the start of the next season, I promise to do something big for the children, even though I have not yet made up my mind what it would be,&#8221; Wanyama said.\" data-src=\"https://www.ebmnews.com/wp-content/uploads/2018/06/9d124eda5fdcd7b4070b8b31b24076fa-210x136.jpg\" data-bs-srcset=\"{&quot;baseurl&quot;:&quot;https:\\\\/\\\\/www.ebmnews.com\\\\/wp-content\\\\/uploads\\\\/2018\\\\/06\\\\/&quot;,&quot;sizes&quot;:{&quot;86&quot;:&quot;9d124eda5fdcd7b4070b8b31b24076fa-86x64.jpg&quot;,&quot;210&quot;:&quot;9d124eda5fdcd7b4070b8b31b24076fa-210x136.jpg&quot;,&quot;279&quot;:&quot;9d124eda5fdcd7b4070b8b31b24076fa-279x220.jpg&quot;,&quot;357&quot;:&quot;9d124eda5fdcd7b4070b8b31b24076fa-357x210.jpg&quot;,&quot;711&quot;:&quot;9d124eda5fdcd7b4070b8b31b24076fa.jpg&quot;}}\"\\t\\t\\t\\t\\t\\t\\tclass=\"img-holder\" href=\"https://www.ebmnews.com/victor-wanyama-a-kenyan-footballer-who-plays-in-the-english-premier-league-epl-has-called-for-setting-up-football-academies-to-tap-football-talent-in-the-east-african-nation-wanyama-who-plays-f/\"></a>\\n\\t\\t\\t\\t\\t\\t\\t\\t\\t</div>\\n\\t\\t\\t<h2 class=\"title\">\\t\\t\\t<a href=\"https://www.ebmnews.com/victor-wanyama-a-kenyan-footballer-who-plays-in-the-english-premier-league-epl-has-called-for-setting-up-football-academies-to-tap-football-talent-in-the-east-african-nation-wanyama-who-plays-f/\" class=\"post-url post-title\">\\n\\t\\t\\t\\tVictor Wanyama, a Kenyan footballer who plays in the English Premier League (EPL), has called for&hellip;\\t\\t\\t</a>\\n\\t\\t\\t</h2>\\t\\t<div class=\"post-meta\">\\n\\n\\t\\t\\t\\t\\t\\t\\t<a href=\"https://www.ebmnews.com/author/reporter/\"\\n\\t\\t\\t\\t   title=\"Browse Author Articles\"\\n\\t\\t\\t\\t   class=\"post-author-a\">\\n\\t\\t\\t\\t\\t<i class=\"post-author author\">\\n\\t\\t\\t\\t\\t\\tReporter\\t\\t\\t\\t\\t</i>\\n\\t\\t\\t\\t</a>\\n\\t\\t\\t\\t\\t\\t\\t<span class=\"time\"><time class=\"post-published updated\"\\n\\t\\t\\t\\t                         datetime=\"2018-06-15T15:18:10+05:30\">Jun 15, 2018</time></span>\\n\\t\\t\\t\\t\\t\\t</div>\\n\\t\\t\\t\\t\\t\\t<div class=\"post-summary\">\\n\\t\\t\\t\\t\\tThe smallest nation ever to play at a World Cup has a big start against Lionel Messi in Moscow on Saturday.\\r\\nJust don\\'t expect&hellip;\\t\\t\\t\\t</div>\\n\\t\\t\\t\\t\\t\\t</div>\\n\\t</article>\\n\\t<article class=\"post-65099 type-post format-standard has-post-thumbnail   listing-item listing-item-blog  listing-item-blog-1 main-term-13 bsw-9 \">\\n\\t\\t<div class=\"item-inner clearfix\">\\n\\t\\t\\t\\t\\t\\t\\t<div class=\"featured clearfix\">\\n\\t\\t\\t\\t\\t\\t\\t\\t\\t\\t<a  title=\"Brazil arrive for 2018 FIFA World Cup\" data-src=\"https://www.ebmnews.com/wp-content/uploads/2018/06/652d68f7dbd3d62831df1e4a128f2658-210x136.jpg\" data-bs-srcset=\"{&quot;baseurl&quot;:&quot;https:\\\\/\\\\/www.ebmnews.com\\\\/wp-content\\\\/uploads\\\\/2018\\\\/06\\\\/&quot;,&quot;sizes&quot;:{&quot;86&quot;:&quot;652d68f7dbd3d62831df1e4a128f2658-86x64.jpg&quot;,&quot;210&quot;:&quot;652d68f7dbd3d62831df1e4a128f2658-210x136.jpg&quot;,&quot;279&quot;:&quot;652d68f7dbd3d62831df1e4a128f2658-279x220.jpg&quot;,&quot;357&quot;:&quot;652d68f7dbd3d62831df1e4a128f2658-357x210.jpg&quot;,&quot;500&quot;:&quot;652d68f7dbd3d62831df1e4a128f2658.jpg&quot;}}\"\\t\\t\\t\\t\\t\\t\\tclass=\"img-holder\" href=\"https://www.ebmnews.com/brazil-arrive-for-2018-fifa-world-cup/\"></a>\\n\\t\\t\\t\\t\\t\\t\\t\\t\\t</div>\\n\\t\\t\\t<h2 class=\"title\">\\t\\t\\t<a href=\"https://www.ebmnews.com/brazil-arrive-for-2018-fifa-world-cup/\" class=\"post-url post-title\">\\n\\t\\t\\t\\tBrazil arrive for 2018 FIFA World Cup\\t\\t\\t</a>\\n\\t\\t\\t</h2>\\t\\t<div class=\"post-meta\">\\n\\n\\t\\t\\t\\t\\t\\t\\t<a href=\"https://www.ebmnews.com/author/reporter/\"\\n\\t\\t\\t\\t   title=\"Browse Author Articles\"\\n\\t\\t\\t\\t   class=\"post-author-a\">\\n\\t\\t\\t\\t\\t<i class=\"post-author author\">\\n\\t\\t\\t\\t\\t\\tReporter\\t\\t\\t\\t\\t</i>\\n\\t\\t\\t\\t</a>\\n\\t\\t\\t\\t\\t\\t\\t<span class=\"time\"><time class=\"post-published updated\"\\n\\t\\t\\t\\t                         datetime=\"2018-06-11T15:16:34+05:30\">Jun 11, 2018</time></span>\\n\\t\\t\\t\\t\\t\\t</div>\\n\\t\\t\\t\\t\\t\\t<div class=\"post-summary\">\\n\\t\\t\\t\\t\\tSochi: The Brazilian football team, which is the most successful FIFA World Cup competitor with five titles, arrived in Russias&hellip;\\t\\t\\t\\t</div>\\n\\t\\t\\t\\t\\t\\t</div>\\n\\t</article>\\n\\t<article class=\"post-63166 type-post format-standard has-post-thumbnail   listing-item listing-item-blog  listing-item-blog-1 main-term-19 bsw-9 \">\\n\\t\\t<div class=\"item-inner clearfix\">\\n\\t\\t\\t<h2 class=\"title\">\\t\\t\\t<a href=\"https://www.ebmnews.com/ipl-2018-srh-defeat-kohlis-rcb-by-5-runs-srh-remain-table-toppers/\" class=\"post-url post-title\">\\n\\t\\t\\t\\tIPL 2018: SRH defeat Kohli&#8217;s RCB by 5 runs, SRH remain table-toppers\\t\\t\\t</a>\\n\\t\\t\\t</h2>\\t\\t<div class=\"post-meta\">\\n\\n\\t\\t\\t\\t\\t\\t\\t<a href=\"https://www.ebmnews.com/author/dflgfoperitndfvfg/\"\\n\\t\\t\\t\\t   title=\"Browse Author Articles\"\\n\\t\\t\\t\\t   class=\"post-author-a\">\\n\\t\\t\\t\\t\\t<i class=\"post-author author\">\\n\\t\\t\\t\\t\\t\\tEBM News English\\t\\t\\t\\t\\t</i>\\n\\t\\t\\t\\t</a>\\n\\t\\t\\t\\t\\t\\t\\t<span class=\"time\"><time class=\"post-published updated\"\\n\\t\\t\\t\\t                         datetime=\"2018-05-08T12:18:39+05:30\">May 8, 2018</time></span>\\n\\t\\t\\t\\t\\t\\t</div>\\n\\t\\t\\t\\t\\t\\t<div class=\"post-summary\">\\n\\t\\t\\t\\t\\tHyderabad: The Sunrisers Hyderabad (SRH) defeated Royal Challengers Bangalore (RCB) by five runs in an Indian Premier League&hellip;\\t\\t\\t\\t</div>\\n\\t\\t\\t\\t\\t\\t</div>\\n\\t</article>\\n\\t<article class=\"post-62576 type-post format-standard has-post-thumbnail   listing-item listing-item-blog  listing-item-blog-1 main-term-19 bsw-9 \">\\n\\t\\t<div class=\"item-inner clearfix\">\\n\\t\\t\\t<h2 class=\"title\">\\t\\t\\t<a href=\"https://www.ebmnews.com/2018-ipl-kl-rahul-fires-warning-after-gayle-strom-destroys-chennai-super-kings/\" class=\"post-url post-title\">\\n\\t\\t\\t\\t2018 IPL: KL Rahul fires warning after Gayle strom destroys Chennai Super Kings\\t\\t\\t</a>\\n\\t\\t\\t</h2>\\t\\t<div class=\"post-meta\">\\n\\n\\t\\t\\t\\t\\t\\t\\t<a href=\"https://www.ebmnews.com/author/dflgfoperitndfvfg/\"\\n\\t\\t\\t\\t   title=\"Browse Author Articles\"\\n\\t\\t\\t\\t   class=\"post-author-a\">\\n\\t\\t\\t\\t\\t<i class=\"post-author author\">\\n\\t\\t\\t\\t\\t\\tEBM News English\\t\\t\\t\\t\\t</i>\\n\\t\\t\\t\\t</a>\\n\\t\\t\\t\\t\\t\\t\\t<span class=\"time\"><time class=\"post-published updated\"\\n\\t\\t\\t\\t                         datetime=\"2018-04-17T10:48:09+05:30\">Apr 17, 2018</time></span>\\n\\t\\t\\t\\t\\t\\t</div>\\n\\t\\t\\t\\t\\t\\t<div class=\"post-summary\">\\n\\t\\t\\t\\t\\tMohali: Kings XI Punjab opener Lokesh Rahul has shot a warning to rival teams in the Indian Premier League: beware of Chris Gayle&hellip;\\t\\t\\t\\t</div>\\n\\t\\t\\t\\t\\t\\t</div>\\n\\t</article>\\n\\t<article class=\"post-62501 type-post format-standard has-post-thumbnail   listing-item listing-item-blog  listing-item-blog-1 main-term-19 bsw-9 \">\\n\\t\\t<div class=\"item-inner clearfix\">\\n\\t\\t\\t<h2 class=\"title\">\\t\\t\\t<a href=\"https://www.ebmnews.com/ipl-2018-kxip-vs-csk-ms-dhonis-efforts-in-vain-as-chennai-suffer-first-defeat/\" class=\"post-url post-title\">\\n\\t\\t\\t\\tIPL 2018, KXIP vs CSK: MS Dhoni&#8217;s efforts in vain as Chennai suffer first defeat\\t\\t\\t</a>\\n\\t\\t\\t</h2>\\t\\t<div class=\"post-meta\">\\n\\n\\t\\t\\t\\t\\t\\t\\t<a href=\"https://www.ebmnews.com/author/dflgfoperitndfvfg/\"\\n\\t\\t\\t\\t   title=\"Browse Author Articles\"\\n\\t\\t\\t\\t   class=\"post-author-a\">\\n\\t\\t\\t\\t\\t<i class=\"post-author author\">\\n\\t\\t\\t\\t\\t\\tEBM News English\\t\\t\\t\\t\\t</i>\\n\\t\\t\\t\\t</a>\\n\\t\\t\\t\\t\\t\\t\\t<span class=\"time\"><time class=\"post-published updated\"\\n\\t\\t\\t\\t                         datetime=\"2018-04-16T10:03:58+05:30\">Apr 16, 2018</time></span>\\n\\t\\t\\t\\t\\t\\t</div>\\n\\t\\t\\t\\t\\t\\t<div class=\"post-summary\">\\n\\t\\t\\t\\t\\tMohali:\\xa0Chennai Super Kings (CSK) suffered the first defeat of their 2018 Indian Premier League (IPL) campaign after Kings XI&hellip;\\t\\t\\t\\t</div>\\n\\t\\t\\t\\t\\t\\t</div>\\n\\t</article>\\n\\t</div>\\n\\t\\t\\t\\t<div class=\"pagination bs-links-pagination clearfix\" itemscope=\"itemscope\" itemtype=\"https://schema.org/SiteNavigationElement/Pagination\">\\n\\t\\t\\t\\t<div class=\"older\"><a href=\"https://www.ebmnews.com/page/2/?s=NEWS+OF+2018\"  rel=\"next\"><i class=\"fa fa-angle-double-left\"></i> Older Posts</a></div>\\n\\t\\t\\t\\t<div class=\"newer\"></div>\\n\\t\\t\\t</div>\\n\\t\\t\\t\\t\\t\\t\\t\\t\\t</div><!-- .content-column -->\\n\\t\\t\\t\\t\\t\\t\\t\\t\\t\\t\\t\\t<div class=\"col-sm-4 sidebar-column sidebar-column-primary\">\\n\\t\\t\\t\\t\\t\\t\\t<aside id=\"sidebar-primary-sidebar\" class=\"sidebar\" role=\"complementary\" aria-label=\"Primary Sidebar Sidebar\" itemscope=\"itemscope\" itemtype=\"https://schema.org/WPSideBar\">\\n\\t<div id=\"search-2\" class=\" h-ni w-nt primary-sidebar-widget widget widget_search\"><form role=\"search\" method=\"get\" class=\"search-form clearfix\" action=\"https://www.ebmnews.com\">\\n\\t<input type=\"search\" class=\"search-field\"\\n\\t       placeholder=\"Search...\"\\n\\t       value=\"NEWS OF 2018\" name=\"s\"\\n\\t       title=\"Search for:\"\\n\\t       autocomplete=\"off\">\\n\\t<input type=\"submit\" class=\"search-submit\" value=\"Search\">\\n</form><!-- .search-form -->\\n</div>\\n\\t\\t<div id=\"recent-posts-2\" class=\" h-ni w-nt primary-sidebar-widget widget widget_recent_entries\">\\n\\t\\t<div class=\"section-heading sh-t3 sh-s1\"><span class=\"h-text\">Recent Posts</span></div>\\n\\t\\t<ul>\\n\\t\\t\\t\\t\\t\\t\\t\\t\\t\\t\\t<li>\\n\\t\\t\\t\\t\\t<a href=\"https://www.ebmnews.com/ngt-extends-term-of-oversight-committee-to-monitor-pollution-of-ganga/\">NGT extends term of oversight committee to monitor pollution of Ganga</a>\\n\\t\\t\\t\\t\\t\\t\\t\\t\\t</li>\\n\\t\\t\\t\\t\\t\\t\\t\\t\\t\\t\\t<li>\\n\\t\\t\\t\\t\\t<a href=\"https://www.ebmnews.com/covid-19-3-uk-returnees-test-positive-in-up-30-who-gave-fake-addresses-yet-to-be-traced/\">COVID-19: 3 UK returnees test positive in UP, 30 who gave fake addresses yet to be traced</a>\\n\\t\\t\\t\\t\\t\\t\\t\\t\\t</li>\\n\\t\\t\\t\\t\\t\\t\\t\\t\\t\\t\\t<li>\\n\\t\\t\\t\\t\\t<a href=\"https://www.ebmnews.com/rbi-shortlists-four-more-start-ups-in-first-cohort-to-push-digital-payments/\">RBI shortlists four more start-ups in first cohort to push digital payments</a>\\n\\t\\t\\t\\t\\t\\t\\t\\t\\t</li>\\n\\t\\t\\t\\t\\t\\t\\t\\t\\t\\t\\t<li>\\n\\t\\t\\t\\t\\t<a href=\"https://www.ebmnews.com/india-to-become-5th-largest-economy-in-2025-3rd-largest-by-2030-cebr-report/\">India to become 5th largest economy in 2025, 3rd largest by 2030: CEBR report</a>\\n\\t\\t\\t\\t\\t\\t\\t\\t\\t</li>\\n\\t\\t\\t\\t\\t\\t\\t\\t\\t\\t\\t<li>\\n\\t\\t\\t\\t\\t<a href=\"https://www.ebmnews.com/tata-altroz-tubro-petrol-variant-in-new-marina-blue-colour-launching-next-month/\">Tata Altroz Tubro-Petrol Variant In New Marina Blue Colour Launching Next Month</a>\\n\\t\\t\\t\\t\\t\\t\\t\\t\\t</li>\\n\\t\\t\\t\\t\\t</ul>\\n\\n\\t\\t</div><div id=\"categories-2\" class=\" h-ni w-nt primary-sidebar-widget widget widget_categories\"><div class=\"section-heading sh-t3 sh-s1\"><span class=\"h-text\">Categories</span></div>\\n\\t\\t\\t<ul>\\n\\t\\t\\t\\t\\t<li class=\"cat-item cat-item-2\"><a href=\"https://www.ebmnews.com/category/automotive/\">Automotive</a>\\n</li>\\n\\t<li class=\"cat-item cat-item-18\"><a href=\"https://www.ebmnews.com/category/entertainment/bollywood/\">Bollywood</a>\\n</li>\\n\\t<li class=\"cat-item cat-item-3\"><a href=\"https://www.ebmnews.com/category/business/\">Business</a>\\n</li>\\n\\t<li class=\"cat-item cat-item-19\"><a href=\"https://www.ebmnews.com/category/sports/cricket/\">Cricket</a>\\n</li>\\n\\t<li class=\"cat-item cat-item-4\"><a href=\"https://www.ebmnews.com/category/crime/\">Crime</a>\\n</li>\\n\\t<li class=\"cat-item cat-item-5\"><a href=\"https://www.ebmnews.com/category/delhi/\">Delhi</a>\\n</li>\\n\\t<li class=\"cat-item cat-item-6\"><a href=\"https://www.ebmnews.com/category/entertainment/\">Entertainment</a>\\n</li>\\n\\t<li class=\"cat-item cat-item-47\"><a href=\"https://www.ebmnews.com/category/featured/\">Featured</a>\\n</li>\\n\\t<li class=\"cat-item cat-item-20\"><a href=\"https://www.ebmnews.com/category/sports/football/\">Football</a>\\n</li>\\n\\t<li class=\"cat-item cat-item-22\"><a href=\"https://www.ebmnews.com/category/sports/hockey/\">Hockey</a>\\n</li>\\n\\t<li class=\"cat-item cat-item-8\"><a href=\"https://www.ebmnews.com/category/entertainment/hollywood/\">Hollywood</a>\\n</li>\\n\\t<li class=\"cat-item cat-item-56\"><a href=\"https://www.ebmnews.com/category/jammu-kashmir/\">Jammu &amp; Kashmir</a>\\n</li>\\n\\t<li class=\"cat-item cat-item-45\"><a href=\"https://www.ebmnews.com/category/entertainment/kollywood/\">Kollywood</a>\\n</li>\\n\\t<li class=\"cat-item cat-item-7\"><a href=\"https://www.ebmnews.com/category/lifestyle/\">Lifestyle</a>\\n</li>\\n\\t<li class=\"cat-item cat-item-46\"><a href=\"https://www.ebmnews.com/category/entertainment/mollywood-entertainment/\">Mollywood</a>\\n</li>\\n\\t<li class=\"cat-item cat-item-10\"><a href=\"https://www.ebmnews.com/category/national/\">National</a>\\n</li>\\n\\t<li class=\"cat-item cat-item-57\"><a href=\"https://www.ebmnews.com/category/odisha/\">Odisha</a>\\n</li>\\n\\t<li class=\"cat-item cat-item-49\"><a href=\"https://www.ebmnews.com/category/entertainment/other-entertainment/\">Other Entertainment</a>\\n</li>\\n\\t<li class=\"cat-item cat-item-48\"><a href=\"https://www.ebmnews.com/category/entertainment/movies/\">Other Movies</a>\\n</li>\\n\\t<li class=\"cat-item cat-item-50\"><a href=\"https://www.ebmnews.com/category/sports/other-sports/\">Other Sports</a>\\n</li>\\n\\t<li class=\"cat-item cat-item-9\"><a href=\"https://www.ebmnews.com/category/other-states/\">Other States</a>\\n</li>\\n\\t<li class=\"cat-item cat-item-13\"><a href=\"https://www.ebmnews.com/category/sports/\">Sports</a>\\n</li>\\n\\t<li class=\"cat-item cat-item-14\"><a href=\"https://www.ebmnews.com/category/technology/\">Technology</a>\\n</li>\\n\\t<li class=\"cat-item cat-item-15\"><a href=\"https://www.ebmnews.com/category/sports/tennis/\">Tennis</a>\\n</li>\\n\\t<li class=\"cat-item cat-item-1\"><a href=\"https://www.ebmnews.com/category/uncategorized/\">Uncategorized</a>\\n</li>\\n\\t<li class=\"cat-item cat-item-17\"><a href=\"https://www.ebmnews.com/category/world/\">World</a>\\n</li>\\n\\t\\t\\t</ul>\\n\\n\\t\\t\\t</div></aside>\\n\\t\\t\\t\\t\\t\\t</div><!-- .primary-sidebar-column -->\\n\\t\\t\\t\\t\\t\\t\\t\\t\\t</div><!-- .main-section -->\\n\\t\\t</div>\\n\\n\\t</main><!-- main -->\\n\\t</div><!-- .content-wrap -->\\n\\n\\t\\t</div><!-- .main-wrap -->\\n\\t\\t\\t<footer id=\"site-footer\" class=\"site-footer full-width\">\\n\\t\\t\\t\\t<div class=\"copy-footer\">\\n\\t\\t\\t<div class=\"content-wrap\">\\n\\t\\t\\t\\t<div class=\"container\">\\n\\t\\t\\t\\t\\t\\t<div class=\"row\">\\n\\t\\t<div class=\"col-lg-12\">\\n\\t\\t\\t<div id=\"menu-footer\" class=\"menu footer-menu-wrapper\" role=\"navigation\" itemscope=\"itemscope\" itemtype=\"https://schema.org/SiteNavigationElement\">\\n\\t\\t\\t\\t<nav class=\"footer-menu-container\">\\n\\t\\t\\t\\t\\t<ul id=\"footer-navigation\" class=\"footer-menu menu clearfix\">\\n\\t\\t\\t\\t\\t\\t<li id=\"menu-item-64935\" class=\"menu-item menu-item-type-post_type menu-item-object-page better-anim-fade menu-item-64935\"><a href=\"https://www.ebmnews.com/about-us/\">About Us</a></li>\\n<li id=\"menu-item-64936\" class=\"menu-item menu-item-type-post_type menu-item-object-page better-anim-fade menu-item-64936\"><a href=\"https://www.ebmnews.com/advertise-with-us/\">Advertise With Us</a></li>\\n<li id=\"menu-item-64938\" class=\"menu-item menu-item-type-post_type menu-item-object-page better-anim-fade menu-item-64938\"><a href=\"https://www.ebmnews.com/terms-of-service/\">Terms of Service</a></li>\\n<li id=\"menu-item-64937\" class=\"menu-item menu-item-type-post_type menu-item-object-page better-anim-fade menu-item-64937\"><a href=\"https://www.ebmnews.com/privacy-policy/\">Privacy Policy</a></li>\\n<li id=\"menu-item-64070\" class=\"menu-item menu-item-type-post_type menu-item-object-page better-anim-fade menu-item-64070\"><a href=\"https://www.ebmnews.com/contact-us/\">Contact Us</a></li>\\n\\t\\t\\t\\t\\t</ul>\\n\\t\\t\\t\\t</nav>\\n\\t\\t\\t</div>\\n\\t\\t</div>\\n\\t</div>\\n\\t\\t\\t\\t\\t<div class=\"row footer-copy-row\">\\n\\t\\t\\t\\t\\t\\t<div class=\"copy-1 col-lg-6 col-md-6 col-sm-6 col-xs-12\">\\n\\t\\t\\t\\t\\t\\t\\tCopyrights © 2020 - EBM News English. All Rights Reserved.\\t\\t\\t\\t\\t\\t</div>\\n\\t\\t\\t\\t\\t\\t<div class=\"copy-2 col-lg-6 col-md-6 col-sm-6 col-xs-12\">\\n\\t\\t\\t\\t\\t\\t\\t\\t\\t\\t\\t\\t\\t</div>\\n\\t\\t\\t\\t\\t</div>\\n\\t\\t\\t\\t</div>\\n\\t\\t\\t</div>\\n\\t\\t</div>\\n\\t</footer><!-- .footer -->\\n\\t<span class=\"back-top\"><i class=\"fa fa-arrow-up\"></i></span>\\n\\n<!-- Global site tag (gtag.js) - Google Analytics -->\\n<script async src=\"https://www.googletagmanager.com/gtag/js?id=UA-111556645-1\"></script>\\n<script>\\n  window.dataLayer = window.dataLayer || [];\\n  function gtag(){dataLayer.push(arguments);}\\n  gtag(\\'js\\', new Date());\\n\\n  gtag(\\'config\\', \\'UA-111556645-1\\');\\n</script>\\n\\t\\t<!-- Google Tag Manager (noscript) added by Site Kit -->\\n\\t\\t<noscript>\\n\\t\\t\\t<iframe src=\"https://www.googletagmanager.com/ns.html?id=GTM-P5NT2BJ\" height=\"0\" width=\"0\" style=\"display:none;visibility:hidden\"></iframe>\\n\\t\\t</noscript>\\n\\t\\t<!-- End Google Tag Manager (noscript) -->\\n\\t\\t<script id=\\'publisher-theme-pagination-js-extra\\'>\\nvar bs_pagination_loc = {\"loading\":\"<div class=\\\\\"bs-loading\\\\\"><div><\\\\/div><div><\\\\/div><div><\\\\/div><div><\\\\/div><div><\\\\/div><div><\\\\/div><div><\\\\/div><div><\\\\/div><div><\\\\/div><\\\\/div>\"};\\n</script>\\n<script id=\\'publisher-js-extra\\'>\\nvar publisher_theme_global_loc = {\"page\":{\"boxed\":\"full-width\"},\"header\":{\"style\":\"style-2\",\"boxed\":\"full-width\"},\"ajax_url\":\"https:\\\\/\\\\/www.ebmnews.com\\\\/wp-admin\\\\/admin-ajax.php\",\"loading\":\"<div class=\\\\\"bs-loading\\\\\"><div><\\\\/div><div><\\\\/div><div><\\\\/div><div><\\\\/div><div><\\\\/div><div><\\\\/div><div><\\\\/div><div><\\\\/div><div><\\\\/div><\\\\/div>\",\"translations\":{\"tabs_all\":\"All\",\"tabs_more\":\"More\",\"lightbox_expand\":\"Expand the image\",\"lightbox_close\":\"Close\"},\"lightbox\":{\"not_classes\":\"\"},\"main_menu\":{\"more_menu\":\"enable\"},\"top_menu\":{\"more_menu\":\"enable\"},\"skyscraper\":{\"sticky_gap\":30,\"sticky\":false,\"position\":\"\"},\"share\":{\"more\":true},\"refresh_googletagads\":\"1\",\"notification\":{\"subscribe_msg\":\"By clicking the subscribe button you will never miss the new articles!\",\"subscribed_msg\":\"You\\'re subscribed to notifications\",\"subscribe_btn\":\"Subscribe\",\"subscribed_btn\":\"Unsubscribe\"}};\\nvar publisher_theme_ajax_search_loc = {\"ajax_url\":\"https:\\\\/\\\\/www.ebmnews.com\\\\/wp-admin\\\\/admin-ajax.php\",\"previewMarkup\":\"<div class=\\\\\"ajax-search-results-wrapper ajax-search-no-product ajax-search-fullwidth\\\\\">\\\\n\\\\t<div class=\\\\\"ajax-search-results\\\\\">\\\\n\\\\t\\\\t<div class=\\\\\"ajax-ajax-posts-list\\\\\">\\\\n\\\\t\\\\t\\\\t<div class=\\\\\"clean-title heading-typo\\\\\">\\\\n\\\\t\\\\t\\\\t\\\\t<span>Posts<\\\\/span>\\\\n\\\\t\\\\t\\\\t<\\\\/div>\\\\n\\\\t\\\\t\\\\t<div class=\\\\\"posts-lists\\\\\" data-section-name=\\\\\"posts\\\\\"><\\\\/div>\\\\n\\\\t\\\\t<\\\\/div>\\\\n\\\\t\\\\t<div class=\\\\\"ajax-taxonomy-list\\\\\">\\\\n\\\\t\\\\t\\\\t<div class=\\\\\"ajax-categories-columns\\\\\">\\\\n\\\\t\\\\t\\\\t\\\\t<div class=\\\\\"clean-title heading-typo\\\\\">\\\\n\\\\t\\\\t\\\\t\\\\t\\\\t<span>Categories<\\\\/span>\\\\n\\\\t\\\\t\\\\t\\\\t<\\\\/div>\\\\n\\\\t\\\\t\\\\t\\\\t<div class=\\\\\"posts-lists\\\\\" data-section-name=\\\\\"categories\\\\\"><\\\\/div>\\\\n\\\\t\\\\t\\\\t<\\\\/div>\\\\n\\\\t\\\\t\\\\t<div class=\\\\\"ajax-tags-columns\\\\\">\\\\n\\\\t\\\\t\\\\t\\\\t<div class=\\\\\"clean-title heading-typo\\\\\">\\\\n\\\\t\\\\t\\\\t\\\\t\\\\t<span>Tags<\\\\/span>\\\\n\\\\t\\\\t\\\\t\\\\t<\\\\/div>\\\\n\\\\t\\\\t\\\\t\\\\t<div class=\\\\\"posts-lists\\\\\" data-section-name=\\\\\"tags\\\\\"><\\\\/div>\\\\n\\\\t\\\\t\\\\t<\\\\/div>\\\\n\\\\t\\\\t<\\\\/div>\\\\n\\\\t<\\\\/div>\\\\n<\\\\/div>\",\"full_width\":\"1\"};\\n</script>\\n\\t\\t<div class=\"rh-cover noscroll  no-login-icon\" >\\n\\t\\t\\t<span class=\"rh-close\"></span>\\n\\t\\t\\t<div class=\"rh-panel rh-pm\">\\n\\t\\t\\t\\t<div class=\"rh-p-h\">\\n\\t\\t\\t\\t\\t\\t\\t\\t\\t</div>\\n\\n\\t\\t\\t\\t<div class=\"rh-p-b\">\\n\\t\\t\\t\\t\\t\\t\\t\\t\\t\\t<div class=\"rh-c-m clearfix\"></div>\\n\\n\\t\\t\\t\\t\\t\\t\\t\\t\\t\\t\\t<form role=\"search\" method=\"get\" class=\"search-form\" action=\"https://www.ebmnews.com\">\\n\\t\\t\\t\\t\\t\\t\\t<input type=\"search\" class=\"search-field\"\\n\\t\\t\\t\\t\\t\\t\\t       placeholder=\"Search...\"\\n\\t\\t\\t\\t\\t\\t\\t       value=\"NEWS OF 2018\" name=\"s\"\\n\\t\\t\\t\\t\\t\\t\\t       title=\"Search for:\"\\n\\t\\t\\t\\t\\t\\t\\t       autocomplete=\"off\">\\n\\t\\t\\t\\t\\t\\t\\t<input type=\"submit\" class=\"search-submit\" value=\"\\uf002\">\\n\\t\\t\\t\\t\\t\\t</form>\\n\\t\\t\\t\\t\\t\\t\\t\\t\\t\\t</div>\\n\\t\\t\\t</div>\\n\\t\\t\\t\\t\\t</div>\\n\\t\\t<script type=\\'text/javascript\\' id=\\'contact-form-7-js-extra\\'>\\n/* <![CDATA[ */\\nvar wpcf7 = {\"apiSettings\":{\"root\":\"https:\\\\/\\\\/www.ebmnews.com\\\\/wp-json\\\\/contact-form-7\\\\/v1\",\"namespace\":\"contact-form-7\\\\/v1\"}};\\n/* ]]> */\\n</script>\\n<script type=\\'text/javascript\\' src=\\'https://www.ebmnews.com/wp-content/plugins/contact-form-7/includes/js/scripts.js?ver=5.2.2\\' id=\\'contact-form-7-js\\'></script>\\n<script type=\\'text/javascript\\' src=\\'https://www.ebmnews.com/wp-includes/js/wp-embed.min.js?ver=5.5.3\\' id=\\'wp-embed-js\\'></script>\\n<script type=\\'text/javascript\\' async=\"async\" src=\\'https://www.ebmnews.com/wp-content/bs-booster-cache/e9cd40dfbbe6c22137203ac89e21ae5f.js?ver=5.5.3\\' id=\\'bs-booster-js\\'></script>\\n\\n</body>\\n</html>'"
      ]
     },
     "execution_count": 7,
     "metadata": {},
     "output_type": "execute_result"
    }
   ],
   "source": [
    "r1.text"
   ]
  },
  {
   "cell_type": "code",
   "execution_count": 8,
   "metadata": {},
   "outputs": [],
   "source": [
    "soup=BeautifulSoup(r1.text,'html.parser')"
   ]
  },
  {
   "cell_type": "code",
   "execution_count": 70,
   "metadata": {},
   "outputs": [
    {
     "data": {
      "text/plain": [
       "[<h2 class=\"title\"> <a class=\"post-url post-title\" href=\"https://www.ebmnews.com/facebook-apologises-for-role-in-2018-communal-unrest-in-sri-lanka/\">\n",
       " \t\t\t\tFacebook apologises for role in 2018 communal unrest in Sri Lanka\t\t\t</a>\n",
       " </h2>,\n",
       " <h2 class=\"title\"> <a class=\"post-url post-title\" href=\"https://www.ebmnews.com/uruguayan-newspaper-gives-football-award-to-martinez-gallardo/\">\n",
       " \t\t\t\tUruguayan newspaper gives football award to Martinez, Gallardo\t\t\t</a>\n",
       " </h2>,\n",
       " <h2 class=\"title\"> <a class=\"post-url post-title\" href=\"https://www.ebmnews.com/actress-priya-varrier-most-searched-personality-on-google-in-2018/\">\n",
       " \t\t\t\tActress Priya Varrier most searched personality on Google in 2018\t\t\t</a>\n",
       " </h2>,\n",
       " <h2 class=\"title\"> <a class=\"post-url post-title\" href=\"https://www.ebmnews.com/asian-games-2018-weightlifter-mirabai-chanu-pulls-out/\">\n",
       " \t\t\t\tAsian Games 2018: Weightlifter Mirabai Chanu pulls out\t\t\t</a>\n",
       " </h2>,\n",
       " <h2 class=\"title\"> <a class=\"post-url post-title\" href=\"https://www.ebmnews.com/badminton-world-championship-2018-srikanth-saina-enter-second-round/\">\n",
       " \t\t\t\tBadminton World Championship 2018: Srikanth, Saina enter second round\t\t\t</a>\n",
       " </h2>,\n",
       " <h2 class=\"title\"> <a class=\"post-url post-title\" href=\"https://www.ebmnews.com/victor-wanyama-a-kenyan-footballer-who-plays-in-the-english-premier-league-epl-has-called-for-setting-up-football-academies-to-tap-football-talent-in-the-east-african-nation-wanyama-who-plays-f/\">\n",
       " \t\t\t\tVictor Wanyama, a Kenyan footballer who plays in the English Premier League (EPL), has called for…\t\t\t</a>\n",
       " </h2>,\n",
       " <h2 class=\"title\"> <a class=\"post-url post-title\" href=\"https://www.ebmnews.com/brazil-arrive-for-2018-fifa-world-cup/\">\n",
       " \t\t\t\tBrazil arrive for 2018 FIFA World Cup\t\t\t</a>\n",
       " </h2>,\n",
       " <h2 class=\"title\"> <a class=\"post-url post-title\" href=\"https://www.ebmnews.com/ipl-2018-srh-defeat-kohlis-rcb-by-5-runs-srh-remain-table-toppers/\">\n",
       " \t\t\t\tIPL 2018: SRH defeat Kohli’s RCB by 5 runs, SRH remain table-toppers\t\t\t</a>\n",
       " </h2>,\n",
       " <h2 class=\"title\"> <a class=\"post-url post-title\" href=\"https://www.ebmnews.com/2018-ipl-kl-rahul-fires-warning-after-gayle-strom-destroys-chennai-super-kings/\">\n",
       " \t\t\t\t2018 IPL: KL Rahul fires warning after Gayle strom destroys Chennai Super Kings\t\t\t</a>\n",
       " </h2>,\n",
       " <h2 class=\"title\"> <a class=\"post-url post-title\" href=\"https://www.ebmnews.com/ipl-2018-kxip-vs-csk-ms-dhonis-efforts-in-vain-as-chennai-suffer-first-defeat/\">\n",
       " \t\t\t\tIPL 2018, KXIP vs CSK: MS Dhoni’s efforts in vain as Chennai suffer first defeat\t\t\t</a>\n",
       " </h2>]"
      ]
     },
     "execution_count": 70,
     "metadata": {},
     "output_type": "execute_result"
    }
   ],
   "source": [
    "headlines=soup.find_all('h2', class_='title')\n",
    "headlines[0:100]"
   ]
  },
  {
   "cell_type": "code",
   "execution_count": 71,
   "metadata": {},
   "outputs": [
    {
     "name": "stdout",
     "output_type": "stream",
     "text": [
      "10\n"
     ]
    }
   ],
   "source": [
    "print(len(headlines))"
   ]
  },
  {
   "cell_type": "code",
   "execution_count": 49,
   "metadata": {},
   "outputs": [],
   "source": [
    "for headlines in df.headlines:\n",
    "    df[headlines].replace(\"[,[\\n\\t\\t\\t\\t]]\")[:1]"
   ]
  },
  {
   "cell_type": "code",
   "execution_count": 11,
   "metadata": {},
   "outputs": [
    {
     "data": {
      "text/plain": [
       "[<i class=\"post-author author\">\n",
       " \t\t\t\t\t\tReporter\t\t\t\t\t</i>,\n",
       " <i class=\"post-author author\">\n",
       " \t\t\t\t\t\tReporter\t\t\t\t\t</i>,\n",
       " <i class=\"post-author author\">\n",
       " \t\t\t\t\t\tReporter\t\t\t\t\t</i>,\n",
       " <i class=\"post-author author\">\n",
       " \t\t\t\t\t\tReporter\t\t\t\t\t</i>,\n",
       " <i class=\"post-author author\">\n",
       " \t\t\t\t\t\tReporter\t\t\t\t\t</i>,\n",
       " <i class=\"post-author author\">\n",
       " \t\t\t\t\t\tReporter\t\t\t\t\t</i>,\n",
       " <i class=\"post-author author\">\n",
       " \t\t\t\t\t\tReporter\t\t\t\t\t</i>,\n",
       " <i class=\"post-author author\">\n",
       " \t\t\t\t\t\tEBM News English\t\t\t\t\t</i>,\n",
       " <i class=\"post-author author\">\n",
       " \t\t\t\t\t\tEBM News English\t\t\t\t\t</i>,\n",
       " <i class=\"post-author author\">\n",
       " \t\t\t\t\t\tEBM News English\t\t\t\t\t</i>]"
      ]
     },
     "execution_count": 11,
     "metadata": {},
     "output_type": "execute_result"
    }
   ],
   "source": [
    "author=soup.find_all('i',class_='post-author author')\n",
    "author[0:100]"
   ]
  },
  {
   "cell_type": "code",
   "execution_count": 12,
   "metadata": {},
   "outputs": [
    {
     "name": "stdout",
     "output_type": "stream",
     "text": [
      "10\n"
     ]
    }
   ],
   "source": [
    "print(len(author))"
   ]
  },
  {
   "cell_type": "code",
   "execution_count": null,
   "metadata": {},
   "outputs": [],
   "source": []
  },
  {
   "cell_type": "code",
   "execution_count": 13,
   "metadata": {},
   "outputs": [
    {
     "data": {
      "text/plain": [
       "[<span class=\"time\"><time class=\"post-published updated\" datetime=\"2020-05-14T09:47:19+05:30\">May 14, 2020</time></span>,\n",
       " <span class=\"time\"><time class=\"post-published updated\" datetime=\"2019-01-01T18:15:32+05:30\">Jan 1, 2019</time></span>,\n",
       " <span class=\"time\"><time class=\"post-published updated\" datetime=\"2018-12-12T19:08:53+05:30\">Dec 12, 2018</time></span>,\n",
       " <span class=\"time\"><time class=\"post-published updated\" datetime=\"2018-08-07T12:42:34+05:30\">Aug 7, 2018</time></span>,\n",
       " <span class=\"time\"><time class=\"post-published updated\" datetime=\"2018-07-31T14:47:41+05:30\">Jul 31, 2018</time></span>,\n",
       " <span class=\"time\"><time class=\"post-published updated\" datetime=\"2018-06-15T15:18:10+05:30\">Jun 15, 2018</time></span>,\n",
       " <span class=\"time\"><time class=\"post-published updated\" datetime=\"2018-06-11T15:16:34+05:30\">Jun 11, 2018</time></span>,\n",
       " <span class=\"time\"><time class=\"post-published updated\" datetime=\"2018-05-08T12:18:39+05:30\">May 8, 2018</time></span>,\n",
       " <span class=\"time\"><time class=\"post-published updated\" datetime=\"2018-04-17T10:48:09+05:30\">Apr 17, 2018</time></span>,\n",
       " <span class=\"time\"><time class=\"post-published updated\" datetime=\"2018-04-16T10:03:58+05:30\">Apr 16, 2018</time></span>]"
      ]
     },
     "execution_count": 13,
     "metadata": {},
     "output_type": "execute_result"
    }
   ],
   "source": [
    "dates=soup.find_all('span', class_='time')\n",
    "dates[0:100]"
   ]
  },
  {
   "cell_type": "code",
   "execution_count": 14,
   "metadata": {},
   "outputs": [
    {
     "name": "stdout",
     "output_type": "stream",
     "text": [
      "10\n"
     ]
    }
   ],
   "source": [
    "print(len(dates))"
   ]
  },
  {
   "cell_type": "code",
   "execution_count": 15,
   "metadata": {},
   "outputs": [
    {
     "data": {
      "text/plain": [
       "[<div class=\"post-summary\">\n",
       " \t\t\t\t\tHONGKONG: Facebook has apologised for its role in the deadly communal unrest that shook Sri Lanka two years ago after an…\t\t\t\t</div>,\n",
       " <div class=\"post-summary\">\n",
       " \t\t\t\t\tArgentine player Gonzalo \"Pity\" Martinez and manager Marcelo \"Muñeco\" Gallardo were awarded the Rey de America football prizes by…\t\t\t\t</div>,\n",
       " <div class=\"post-summary\">\n",
       " \t\t\t\t\tNew Delhi: Malayalam actress Priya Prakash Varrier, who shot to fame following her 'wink song' 'Manikya Malaraya Poovi...' from…\t\t\t\t</div>,\n",
       " <div class=\"post-summary\">\n",
       " \t\t\t\t\tImphal, August 7: India's Asian Games preparations suffered a major blow when world champion and Commonwealth Games gold-medallist…\t\t\t\t</div>,\n",
       " <div class=\"post-summary\">\n",
       " \t\t\t\t\tNanjing, July 31: India's Kidambi Srikanth entered the second round of the World Badminton Championship 2018 beating Nhat Nguyen…\t\t\t\t</div>,\n",
       " <div class=\"post-summary\">\n",
       " \t\t\t\t\tThe smallest nation ever to play at a World Cup has a big start against Lionel Messi in Moscow on Saturday.\n",
       " Just don't expect…\t\t\t\t</div>,\n",
       " <div class=\"post-summary\">\n",
       " \t\t\t\t\tSochi: The Brazilian football team, which is the most successful FIFA World Cup competitor with five titles, arrived in Russias…\t\t\t\t</div>,\n",
       " <div class=\"post-summary\">\n",
       " \t\t\t\t\tHyderabad: The Sunrisers Hyderabad (SRH) defeated Royal Challengers Bangalore (RCB) by five runs in an Indian Premier League…\t\t\t\t</div>,\n",
       " <div class=\"post-summary\">\n",
       " \t\t\t\t\tMohali: Kings XI Punjab opener Lokesh Rahul has shot a warning to rival teams in the Indian Premier League: beware of Chris Gayle…\t\t\t\t</div>,\n",
       " <div class=\"post-summary\">\n",
       " \t\t\t\t\tMohali: Chennai Super Kings (CSK) suffered the first defeat of their 2018 Indian Premier League (IPL) campaign after Kings XI…\t\t\t\t</div>]"
      ]
     },
     "execution_count": 15,
     "metadata": {},
     "output_type": "execute_result"
    }
   ],
   "source": [
    "description=soup.find_all('div',class_='post-summary')\n",
    "description[0:100]"
   ]
  },
  {
   "cell_type": "code",
   "execution_count": 16,
   "metadata": {},
   "outputs": [
    {
     "name": "stdout",
     "output_type": "stream",
     "text": [
      "10\n"
     ]
    }
   ],
   "source": [
    "print(len(description))"
   ]
  },
  {
   "cell_type": "code",
   "execution_count": 57,
   "metadata": {},
   "outputs": [],
   "source": [
    "verticals=soup.find_all('a')"
   ]
  },
  {
   "cell_type": "code",
   "execution_count": 66,
   "metadata": {},
   "outputs": [
    {
     "data": {
      "text/plain": [
       "[<a class=\"post-url post-title\" href=\"https://www.ebmnews.com/facebook-apologises-for-role-in-2018-communal-unrest-in-sri-lanka/\">\n",
       " \t\t\t\tFacebook apologises for role in 2018 communal unrest in Sri Lanka\t\t\t</a>,\n",
       " <a class=\"post-author-a\" href=\"https://www.ebmnews.com/author/reporter/\" title=\"Browse Author Articles\">\n",
       " <i class=\"post-author author\">\n",
       " \t\t\t\t\t\tReporter\t\t\t\t\t</i>\n",
       " </a>,\n",
       " <a class=\"img-holder\" data-bs-srcset='{\"baseurl\":\"https:\\/\\/www.ebmnews.com\\/wp-content\\/uploads\\/2019\\/01\\/\",\"sizes\":{\"86\":\"1bf330af1aab7602418014999e4a4a33-86x64.jpg\",\"210\":\"1bf330af1aab7602418014999e4a4a33-210x136.jpg\",\"279\":\"1bf330af1aab7602418014999e4a4a33-279x220.jpg\",\"357\":\"1bf330af1aab7602418014999e4a4a33-357x210.jpg\",\"500\":\"1bf330af1aab7602418014999e4a4a33.jpg\"}}' data-src=\"https://www.ebmnews.com/wp-content/uploads/2019/01/1bf330af1aab7602418014999e4a4a33-210x136.jpg\" href=\"https://www.ebmnews.com/uruguayan-newspaper-gives-football-award-to-martinez-gallardo/\" title=\"Uruguayan newspaper gives football award to Martinez, Gallardo\"></a>,\n",
       " <a class=\"post-url post-title\" href=\"https://www.ebmnews.com/uruguayan-newspaper-gives-football-award-to-martinez-gallardo/\">\n",
       " \t\t\t\tUruguayan newspaper gives football award to Martinez, Gallardo\t\t\t</a>,\n",
       " <a class=\"post-author-a\" href=\"https://www.ebmnews.com/author/reporter/\" title=\"Browse Author Articles\">\n",
       " <i class=\"post-author author\">\n",
       " \t\t\t\t\t\tReporter\t\t\t\t\t</i>\n",
       " </a>,\n",
       " <a class=\"img-holder\" data-bs-srcset='{\"baseurl\":\"https:\\/\\/www.ebmnews.com\\/wp-content\\/uploads\\/2018\\/12\\/\",\"sizes\":{\"86\":\"6f9704fd2143254ffa923cca366930c5-86x64.jpg\",\"210\":\"6f9704fd2143254ffa923cca366930c5-210x136.jpg\",\"279\":\"6f9704fd2143254ffa923cca366930c5-279x220.jpg\",\"357\":\"6f9704fd2143254ffa923cca366930c5-357x210.jpg\",\"600\":\"6f9704fd2143254ffa923cca366930c5.jpg\"}}' data-src=\"https://www.ebmnews.com/wp-content/uploads/2018/12/6f9704fd2143254ffa923cca366930c5-210x136.jpg\" href=\"https://www.ebmnews.com/actress-priya-varrier-most-searched-personality-on-google-in-2018/\" title=\"Actress Priya Varrier most searched personality on Google in 2018\"></a>,\n",
       " <a class=\"post-url post-title\" href=\"https://www.ebmnews.com/actress-priya-varrier-most-searched-personality-on-google-in-2018/\">\n",
       " \t\t\t\tActress Priya Varrier most searched personality on Google in 2018\t\t\t</a>,\n",
       " <a class=\"post-author-a\" href=\"https://www.ebmnews.com/author/reporter/\" title=\"Browse Author Articles\">\n",
       " <i class=\"post-author author\">\n",
       " \t\t\t\t\t\tReporter\t\t\t\t\t</i>\n",
       " </a>,\n",
       " <a class=\"img-holder\" data-bs-srcset='{\"baseurl\":\"https:\\/\\/www.ebmnews.com\\/wp-content\\/uploads\\/2018\\/08\\/\",\"sizes\":{\"86\":\"IMAGE94077746-86x64.jpg\",\"210\":\"IMAGE94077746-210x136.jpg\",\"279\":\"IMAGE94077746-279x220.jpg\",\"357\":\"IMAGE94077746-357x210.jpg\",\"599\":\"IMAGE94077746.jpg\"}}' data-src=\"https://www.ebmnews.com/wp-content/uploads/2018/08/IMAGE94077746-210x136.jpg\" href=\"https://www.ebmnews.com/asian-games-2018-weightlifter-mirabai-chanu-pulls-out/\" title=\"Asian Games 2018: Weightlifter Mirabai Chanu pulls out\"></a>,\n",
       " <a class=\"post-url post-title\" href=\"https://www.ebmnews.com/asian-games-2018-weightlifter-mirabai-chanu-pulls-out/\">\n",
       " \t\t\t\tAsian Games 2018: Weightlifter Mirabai Chanu pulls out\t\t\t</a>,\n",
       " <a class=\"post-author-a\" href=\"https://www.ebmnews.com/author/reporter/\" title=\"Browse Author Articles\">\n",
       " <i class=\"post-author author\">\n",
       " \t\t\t\t\t\tReporter\t\t\t\t\t</i>\n",
       " </a>,\n",
       " <a class=\"img-holder\" data-bs-srcset='{\"baseurl\":\"https:\\/\\/www.ebmnews.com\\/wp-content\\/uploads\\/2018\\/07\\/\",\"sizes\":{\"86\":\"IMAGE93554782-1-86x64.jpg\",\"210\":\"IMAGE93554782-1-210x136.jpg\",\"279\":\"IMAGE93554782-1-279x220.jpg\",\"357\":\"IMAGE93554782-1-357x210.jpg\",\"599\":\"IMAGE93554782-1.jpg\"}}' data-src=\"https://www.ebmnews.com/wp-content/uploads/2018/07/IMAGE93554782-1-210x136.jpg\" href=\"https://www.ebmnews.com/badminton-world-championship-2018-srikanth-saina-enter-second-round/\" title=\"Badminton World Championship 2018: Srikanth, Saina enter second round\"></a>,\n",
       " <a class=\"post-url post-title\" href=\"https://www.ebmnews.com/badminton-world-championship-2018-srikanth-saina-enter-second-round/\">\n",
       " \t\t\t\tBadminton World Championship 2018: Srikanth, Saina enter second round\t\t\t</a>,\n",
       " <a class=\"post-author-a\" href=\"https://www.ebmnews.com/author/reporter/\" title=\"Browse Author Articles\">\n",
       " <i class=\"post-author author\">\n",
       " \t\t\t\t\t\tReporter\t\t\t\t\t</i>\n",
       " </a>,\n",
       " <a class=\"img-holder\" data-bs-srcset='{\"baseurl\":\"https:\\/\\/www.ebmnews.com\\/wp-content\\/uploads\\/2018\\/06\\/\",\"sizes\":{\"86\":\"9d124eda5fdcd7b4070b8b31b24076fa-86x64.jpg\",\"210\":\"9d124eda5fdcd7b4070b8b31b24076fa-210x136.jpg\",\"279\":\"9d124eda5fdcd7b4070b8b31b24076fa-279x220.jpg\",\"357\":\"9d124eda5fdcd7b4070b8b31b24076fa-357x210.jpg\",\"711\":\"9d124eda5fdcd7b4070b8b31b24076fa.jpg\"}}' data-src=\"https://www.ebmnews.com/wp-content/uploads/2018/06/9d124eda5fdcd7b4070b8b31b24076fa-210x136.jpg\" href=\"https://www.ebmnews.com/victor-wanyama-a-kenyan-footballer-who-plays-in-the-english-premier-league-epl-has-called-for-setting-up-football-academies-to-tap-football-talent-in-the-east-african-nation-wanyama-who-plays-f/\" title=\"Victor Wanyama, a Kenyan footballer who plays in the English Premier League (EPL), has called for setting up football academies to tap football talent in the East African nation.  Wanyama, who plays for London-based Tottenham Hotspur, said here on on Thursday that football schools initiate children at a young age thereby making them to develop interest in the game at a time when they are still able to follow instructions, reports Xinhua news agency.   “The football scene in Kenya needs academies if the national team ever hopes to compete against the best in the world, it needs to have a feeder pool where players graduate to the national level,” Wanyama said while conducting a training football training session for children aged between 9-14 years   He said initiating kids to football at an early age will help the development of the sport and Kenyan players.   The defensive midfielder, whose team finished in third place during the last season behind Manchester City and Manchester United, has scored a total of five goals for Tottenham since he joined the team in 2017.  “I am settled and happy at Spurs and leaving the team has not yet occurred in my mind at the moment,” the national team skipper told reporters.   The Tottenham midfielder said by engaging with the children in a training session, he was giving back to the community and according them a morale-boosting moment.  “Before I go back to England for the start of the next season, I promise to do something big for the children, even though I have not yet made up my mind what it would be,” Wanyama said.\"></a>,\n",
       " <a class=\"post-url post-title\" href=\"https://www.ebmnews.com/victor-wanyama-a-kenyan-footballer-who-plays-in-the-english-premier-league-epl-has-called-for-setting-up-football-academies-to-tap-football-talent-in-the-east-african-nation-wanyama-who-plays-f/\">\n",
       " \t\t\t\tVictor Wanyama, a Kenyan footballer who plays in the English Premier League (EPL), has called for…\t\t\t</a>,\n",
       " <a class=\"post-author-a\" href=\"https://www.ebmnews.com/author/reporter/\" title=\"Browse Author Articles\">\n",
       " <i class=\"post-author author\">\n",
       " \t\t\t\t\t\tReporter\t\t\t\t\t</i>\n",
       " </a>,\n",
       " <a class=\"img-holder\" data-bs-srcset='{\"baseurl\":\"https:\\/\\/www.ebmnews.com\\/wp-content\\/uploads\\/2018\\/06\\/\",\"sizes\":{\"86\":\"652d68f7dbd3d62831df1e4a128f2658-86x64.jpg\",\"210\":\"652d68f7dbd3d62831df1e4a128f2658-210x136.jpg\",\"279\":\"652d68f7dbd3d62831df1e4a128f2658-279x220.jpg\",\"357\":\"652d68f7dbd3d62831df1e4a128f2658-357x210.jpg\",\"500\":\"652d68f7dbd3d62831df1e4a128f2658.jpg\"}}' data-src=\"https://www.ebmnews.com/wp-content/uploads/2018/06/652d68f7dbd3d62831df1e4a128f2658-210x136.jpg\" href=\"https://www.ebmnews.com/brazil-arrive-for-2018-fifa-world-cup/\" title=\"Brazil arrive for 2018 FIFA World Cup\"></a>,\n",
       " <a class=\"post-url post-title\" href=\"https://www.ebmnews.com/brazil-arrive-for-2018-fifa-world-cup/\">\n",
       " \t\t\t\tBrazil arrive for 2018 FIFA World Cup\t\t\t</a>,\n",
       " <a class=\"post-author-a\" href=\"https://www.ebmnews.com/author/reporter/\" title=\"Browse Author Articles\">\n",
       " <i class=\"post-author author\">\n",
       " \t\t\t\t\t\tReporter\t\t\t\t\t</i>\n",
       " </a>,\n",
       " <a class=\"post-url post-title\" href=\"https://www.ebmnews.com/ipl-2018-srh-defeat-kohlis-rcb-by-5-runs-srh-remain-table-toppers/\">\n",
       " \t\t\t\tIPL 2018: SRH defeat Kohli’s RCB by 5 runs, SRH remain table-toppers\t\t\t</a>,\n",
       " <a class=\"post-author-a\" href=\"https://www.ebmnews.com/author/dflgfoperitndfvfg/\" title=\"Browse Author Articles\">\n",
       " <i class=\"post-author author\">\n",
       " \t\t\t\t\t\tEBM News English\t\t\t\t\t</i>\n",
       " </a>,\n",
       " <a class=\"post-url post-title\" href=\"https://www.ebmnews.com/2018-ipl-kl-rahul-fires-warning-after-gayle-strom-destroys-chennai-super-kings/\">\n",
       " \t\t\t\t2018 IPL: KL Rahul fires warning after Gayle strom destroys Chennai Super Kings\t\t\t</a>,\n",
       " <a class=\"post-author-a\" href=\"https://www.ebmnews.com/author/dflgfoperitndfvfg/\" title=\"Browse Author Articles\">\n",
       " <i class=\"post-author author\">\n",
       " \t\t\t\t\t\tEBM News English\t\t\t\t\t</i>\n",
       " </a>,\n",
       " <a class=\"post-url post-title\" href=\"https://www.ebmnews.com/ipl-2018-kxip-vs-csk-ms-dhonis-efforts-in-vain-as-chennai-suffer-first-defeat/\">\n",
       " \t\t\t\tIPL 2018, KXIP vs CSK: MS Dhoni’s efforts in vain as Chennai suffer first defeat\t\t\t</a>,\n",
       " <a class=\"post-author-a\" href=\"https://www.ebmnews.com/author/dflgfoperitndfvfg/\" title=\"Browse Author Articles\">\n",
       " <i class=\"post-author author\">\n",
       " \t\t\t\t\t\tEBM News English\t\t\t\t\t</i>\n",
       " </a>,\n",
       " <a href=\"https://www.ebmnews.com/page/2/?s=NEWS+OF+2018\" rel=\"next\"><i class=\"fa fa-angle-double-left\"></i> Older Posts</a>,\n",
       " <a href=\"https://www.ebmnews.com/ngt-extends-term-of-oversight-committee-to-monitor-pollution-of-ganga/\">NGT extends term of oversight committee to monitor pollution of Ganga</a>,\n",
       " <a href=\"https://www.ebmnews.com/covid-19-3-uk-returnees-test-positive-in-up-30-who-gave-fake-addresses-yet-to-be-traced/\">COVID-19: 3 UK returnees test positive in UP, 30 who gave fake addresses yet to be traced</a>,\n",
       " <a href=\"https://www.ebmnews.com/rbi-shortlists-four-more-start-ups-in-first-cohort-to-push-digital-payments/\">RBI shortlists four more start-ups in first cohort to push digital payments</a>,\n",
       " <a href=\"https://www.ebmnews.com/india-to-become-5th-largest-economy-in-2025-3rd-largest-by-2030-cebr-report/\">India to become 5th largest economy in 2025, 3rd largest by 2030: CEBR report</a>,\n",
       " <a href=\"https://www.ebmnews.com/tata-altroz-tubro-petrol-variant-in-new-marina-blue-colour-launching-next-month/\">Tata Altroz Tubro-Petrol Variant In New Marina Blue Colour Launching Next Month</a>,\n",
       " <a href=\"https://www.ebmnews.com/category/automotive/\">Automotive</a>,\n",
       " <a href=\"https://www.ebmnews.com/category/entertainment/bollywood/\">Bollywood</a>,\n",
       " <a href=\"https://www.ebmnews.com/category/business/\">Business</a>,\n",
       " <a href=\"https://www.ebmnews.com/category/sports/cricket/\">Cricket</a>,\n",
       " <a href=\"https://www.ebmnews.com/category/crime/\">Crime</a>,\n",
       " <a href=\"https://www.ebmnews.com/category/delhi/\">Delhi</a>,\n",
       " <a href=\"https://www.ebmnews.com/category/entertainment/\">Entertainment</a>,\n",
       " <a href=\"https://www.ebmnews.com/category/featured/\">Featured</a>,\n",
       " <a href=\"https://www.ebmnews.com/category/sports/football/\">Football</a>,\n",
       " <a href=\"https://www.ebmnews.com/category/sports/hockey/\">Hockey</a>,\n",
       " <a href=\"https://www.ebmnews.com/category/entertainment/hollywood/\">Hollywood</a>,\n",
       " <a href=\"https://www.ebmnews.com/category/jammu-kashmir/\">Jammu &amp; Kashmir</a>,\n",
       " <a href=\"https://www.ebmnews.com/category/entertainment/kollywood/\">Kollywood</a>,\n",
       " <a href=\"https://www.ebmnews.com/category/lifestyle/\">Lifestyle</a>,\n",
       " <a href=\"https://www.ebmnews.com/category/entertainment/mollywood-entertainment/\">Mollywood</a>,\n",
       " <a href=\"https://www.ebmnews.com/category/national/\">National</a>,\n",
       " <a href=\"https://www.ebmnews.com/category/odisha/\">Odisha</a>,\n",
       " <a href=\"https://www.ebmnews.com/category/entertainment/other-entertainment/\">Other Entertainment</a>,\n",
       " <a href=\"https://www.ebmnews.com/category/entertainment/movies/\">Other Movies</a>,\n",
       " <a href=\"https://www.ebmnews.com/category/sports/other-sports/\">Other Sports</a>,\n",
       " <a href=\"https://www.ebmnews.com/category/other-states/\">Other States</a>,\n",
       " <a href=\"https://www.ebmnews.com/category/sports/\">Sports</a>,\n",
       " <a href=\"https://www.ebmnews.com/category/technology/\">Technology</a>,\n",
       " <a href=\"https://www.ebmnews.com/category/sports/tennis/\">Tennis</a>,\n",
       " <a href=\"https://www.ebmnews.com/category/uncategorized/\">Uncategorized</a>,\n",
       " <a href=\"https://www.ebmnews.com/category/world/\">World</a>,\n",
       " <a href=\"https://www.ebmnews.com/about-us/\">About Us</a>,\n",
       " <a href=\"https://www.ebmnews.com/advertise-with-us/\">Advertise With Us</a>,\n",
       " <a href=\"https://www.ebmnews.com/terms-of-service/\">Terms of Service</a>,\n",
       " <a href=\"https://www.ebmnews.com/privacy-policy/\">Privacy Policy</a>,\n",
       " <a href=\"https://www.ebmnews.com/contact-us/\">Contact Us</a>]"
      ]
     },
     "execution_count": 66,
     "metadata": {},
     "output_type": "execute_result"
    }
   ],
   "source": [
    "verticals[21:]"
   ]
  },
  {
   "cell_type": "code",
   "execution_count": null,
   "metadata": {},
   "outputs": [],
   "source": []
  },
  {
   "cell_type": "code",
   "execution_count": 67,
   "metadata": {},
   "outputs": [
    {
     "name": "stdout",
     "output_type": "stream",
     "text": [
      "84\n"
     ]
    }
   ],
   "source": [
    "print(len(verticals))"
   ]
  },
  {
   "cell_type": "code",
   "execution_count": null,
   "metadata": {},
   "outputs": [],
   "source": []
  },
  {
   "cell_type": "code",
   "execution_count": 72,
   "metadata": {},
   "outputs": [],
   "source": [
    "import pandas as pd\n",
    "df=pd.DataFrame({})\n",
    "df['verticals']=verticals[21:31]\n",
    "df['headlines']=headlines[:10]\n",
    "df['dates']=dates[:10]\n",
    "df['author']=author[:10]\n",
    "df['description']=description[:10]"
   ]
  },
  {
   "cell_type": "code",
   "execution_count": 50,
   "metadata": {},
   "outputs": [
    {
     "data": {
      "text/html": [
       "<div>\n",
       "<style scoped>\n",
       "    .dataframe tbody tr th:only-of-type {\n",
       "        vertical-align: middle;\n",
       "    }\n",
       "\n",
       "    .dataframe tbody tr th {\n",
       "        vertical-align: top;\n",
       "    }\n",
       "\n",
       "    .dataframe thead th {\n",
       "        text-align: right;\n",
       "    }\n",
       "</style>\n",
       "<table border=\"1\" class=\"dataframe\">\n",
       "  <thead>\n",
       "    <tr style=\"text-align: right;\">\n",
       "      <th></th>\n",
       "      <th>verticals</th>\n",
       "      <th>headlines</th>\n",
       "      <th>dates</th>\n",
       "      <th>author</th>\n",
       "      <th>description</th>\n",
       "    </tr>\n",
       "  </thead>\n",
       "  <tbody>\n",
       "    <tr>\n",
       "      <th>0</th>\n",
       "      <td>[World]</td>\n",
       "      <td>[ , [\\n\\t\\t\\t\\tFacebook apologises for role in...</td>\n",
       "      <td>[[May 14, 2020]]</td>\n",
       "      <td>[\\n\\t\\t\\t\\t\\t\\tReporter\\t\\t\\t\\t\\t]</td>\n",
       "      <td>[\\n\\t\\t\\t\\t\\tHONGKONG: Facebook has apologised...</td>\n",
       "    </tr>\n",
       "    <tr>\n",
       "      <th>1</th>\n",
       "      <td>[Sports]</td>\n",
       "      <td>[ , [\\n\\t\\t\\t\\tUruguayan newspaper gives footb...</td>\n",
       "      <td>[[Jan 1, 2019]]</td>\n",
       "      <td>[\\n\\t\\t\\t\\t\\t\\tReporter\\t\\t\\t\\t\\t]</td>\n",
       "      <td>[\\n\\t\\t\\t\\t\\tArgentine player Gonzalo \"Pity\" M...</td>\n",
       "    </tr>\n",
       "    <tr>\n",
       "      <th>2</th>\n",
       "      <td>[Entertainment]</td>\n",
       "      <td>[ , [\\n\\t\\t\\t\\tActress Priya Varrier most sear...</td>\n",
       "      <td>[[Dec 12, 2018]]</td>\n",
       "      <td>[\\n\\t\\t\\t\\t\\t\\tReporter\\t\\t\\t\\t\\t]</td>\n",
       "      <td>[\\n\\t\\t\\t\\t\\tNew Delhi: Malayalam actress Priy...</td>\n",
       "    </tr>\n",
       "    <tr>\n",
       "      <th>3</th>\n",
       "      <td>[Technology]</td>\n",
       "      <td>[ , [\\n\\t\\t\\t\\tAsian Games 2018: Weightlifter ...</td>\n",
       "      <td>[[Aug 7, 2018]]</td>\n",
       "      <td>[\\n\\t\\t\\t\\t\\t\\tReporter\\t\\t\\t\\t\\t]</td>\n",
       "      <td>[\\n\\t\\t\\t\\t\\tImphal, August 7: India's Asian G...</td>\n",
       "    </tr>\n",
       "    <tr>\n",
       "      <th>4</th>\n",
       "      <td>[Business]</td>\n",
       "      <td>[ , [\\n\\t\\t\\t\\tBadminton World Championship 20...</td>\n",
       "      <td>[[Jul 31, 2018]]</td>\n",
       "      <td>[\\n\\t\\t\\t\\t\\t\\tReporter\\t\\t\\t\\t\\t]</td>\n",
       "      <td>[\\n\\t\\t\\t\\t\\tNanjing, July 31: India's Kidambi...</td>\n",
       "    </tr>\n",
       "    <tr>\n",
       "      <th>5</th>\n",
       "      <td>[Lifestyle]</td>\n",
       "      <td>[ , [\\n\\t\\t\\t\\tVictor Wanyama, a Kenyan footba...</td>\n",
       "      <td>[[Jun 15, 2018]]</td>\n",
       "      <td>[\\n\\t\\t\\t\\t\\t\\tReporter\\t\\t\\t\\t\\t]</td>\n",
       "      <td>[\\n\\t\\t\\t\\t\\tThe smallest nation ever to play ...</td>\n",
       "    </tr>\n",
       "    <tr>\n",
       "      <th>6</th>\n",
       "      <td>[Automotive]</td>\n",
       "      <td>[ , [\\n\\t\\t\\t\\tBrazil arrive for 2018 FIFA Wor...</td>\n",
       "      <td>[[Jun 11, 2018]]</td>\n",
       "      <td>[\\n\\t\\t\\t\\t\\t\\tReporter\\t\\t\\t\\t\\t]</td>\n",
       "      <td>[\\n\\t\\t\\t\\t\\tSochi: The Brazilian football tea...</td>\n",
       "    </tr>\n",
       "    <tr>\n",
       "      <th>7</th>\n",
       "      <td>[Crime]</td>\n",
       "      <td>[ , [\\n\\t\\t\\t\\tIPL 2018: SRH defeat Kohli’s RC...</td>\n",
       "      <td>[[May 8, 2018]]</td>\n",
       "      <td>[\\n\\t\\t\\t\\t\\t\\tEBM News English\\t\\t\\t\\t\\t]</td>\n",
       "      <td>[\\n\\t\\t\\t\\t\\tHyderabad: The Sunrisers Hyderaba...</td>\n",
       "    </tr>\n",
       "    <tr>\n",
       "      <th>8</th>\n",
       "      <td>[\\n, [],  ]</td>\n",
       "      <td>[ , [\\n\\t\\t\\t\\t2018 IPL: KL Rahul fires warnin...</td>\n",
       "      <td>[[Apr 17, 2018]]</td>\n",
       "      <td>[\\n\\t\\t\\t\\t\\t\\tEBM News English\\t\\t\\t\\t\\t]</td>\n",
       "      <td>[\\n\\t\\t\\t\\t\\tMohali: Kings XI Punjab opener Lo...</td>\n",
       "    </tr>\n",
       "    <tr>\n",
       "      <th>9</th>\n",
       "      <td>[[Home], []]</td>\n",
       "      <td>[ , [\\n\\t\\t\\t\\tIPL 2018, KXIP vs CSK: MS Dhoni...</td>\n",
       "      <td>[[Apr 16, 2018]]</td>\n",
       "      <td>[\\n\\t\\t\\t\\t\\t\\tEBM News English\\t\\t\\t\\t\\t]</td>\n",
       "      <td>[\\n\\t\\t\\t\\t\\tMohali: Chennai Super Kings (CSK)...</td>\n",
       "    </tr>\n",
       "  </tbody>\n",
       "</table>\n",
       "</div>"
      ],
      "text/plain": [
       "         verticals                                          headlines  \\\n",
       "0          [World]  [ , [\\n\\t\\t\\t\\tFacebook apologises for role in...   \n",
       "1         [Sports]  [ , [\\n\\t\\t\\t\\tUruguayan newspaper gives footb...   \n",
       "2  [Entertainment]  [ , [\\n\\t\\t\\t\\tActress Priya Varrier most sear...   \n",
       "3     [Technology]  [ , [\\n\\t\\t\\t\\tAsian Games 2018: Weightlifter ...   \n",
       "4       [Business]  [ , [\\n\\t\\t\\t\\tBadminton World Championship 20...   \n",
       "5      [Lifestyle]  [ , [\\n\\t\\t\\t\\tVictor Wanyama, a Kenyan footba...   \n",
       "6     [Automotive]  [ , [\\n\\t\\t\\t\\tBrazil arrive for 2018 FIFA Wor...   \n",
       "7          [Crime]  [ , [\\n\\t\\t\\t\\tIPL 2018: SRH defeat Kohli’s RC...   \n",
       "8      [\\n, [],  ]  [ , [\\n\\t\\t\\t\\t2018 IPL: KL Rahul fires warnin...   \n",
       "9     [[Home], []]  [ , [\\n\\t\\t\\t\\tIPL 2018, KXIP vs CSK: MS Dhoni...   \n",
       "\n",
       "              dates                                      author  \\\n",
       "0  [[May 14, 2020]]          [\\n\\t\\t\\t\\t\\t\\tReporter\\t\\t\\t\\t\\t]   \n",
       "1   [[Jan 1, 2019]]          [\\n\\t\\t\\t\\t\\t\\tReporter\\t\\t\\t\\t\\t]   \n",
       "2  [[Dec 12, 2018]]          [\\n\\t\\t\\t\\t\\t\\tReporter\\t\\t\\t\\t\\t]   \n",
       "3   [[Aug 7, 2018]]          [\\n\\t\\t\\t\\t\\t\\tReporter\\t\\t\\t\\t\\t]   \n",
       "4  [[Jul 31, 2018]]          [\\n\\t\\t\\t\\t\\t\\tReporter\\t\\t\\t\\t\\t]   \n",
       "5  [[Jun 15, 2018]]          [\\n\\t\\t\\t\\t\\t\\tReporter\\t\\t\\t\\t\\t]   \n",
       "6  [[Jun 11, 2018]]          [\\n\\t\\t\\t\\t\\t\\tReporter\\t\\t\\t\\t\\t]   \n",
       "7   [[May 8, 2018]]  [\\n\\t\\t\\t\\t\\t\\tEBM News English\\t\\t\\t\\t\\t]   \n",
       "8  [[Apr 17, 2018]]  [\\n\\t\\t\\t\\t\\t\\tEBM News English\\t\\t\\t\\t\\t]   \n",
       "9  [[Apr 16, 2018]]  [\\n\\t\\t\\t\\t\\t\\tEBM News English\\t\\t\\t\\t\\t]   \n",
       "\n",
       "                                         description  \n",
       "0  [\\n\\t\\t\\t\\t\\tHONGKONG: Facebook has apologised...  \n",
       "1  [\\n\\t\\t\\t\\t\\tArgentine player Gonzalo \"Pity\" M...  \n",
       "2  [\\n\\t\\t\\t\\t\\tNew Delhi: Malayalam actress Priy...  \n",
       "3  [\\n\\t\\t\\t\\t\\tImphal, August 7: India's Asian G...  \n",
       "4  [\\n\\t\\t\\t\\t\\tNanjing, July 31: India's Kidambi...  \n",
       "5  [\\n\\t\\t\\t\\t\\tThe smallest nation ever to play ...  \n",
       "6  [\\n\\t\\t\\t\\t\\tSochi: The Brazilian football tea...  \n",
       "7  [\\n\\t\\t\\t\\t\\tHyderabad: The Sunrisers Hyderaba...  \n",
       "8  [\\n\\t\\t\\t\\t\\tMohali: Kings XI Punjab opener Lo...  \n",
       "9  [\\n\\t\\t\\t\\t\\tMohali: Chennai Super Kings (CSK)...  "
      ]
     },
     "execution_count": 50,
     "metadata": {},
     "output_type": "execute_result"
    }
   ],
   "source": [
    "df"
   ]
  },
  {
   "cell_type": "code",
   "execution_count": 39,
   "metadata": {},
   "outputs": [],
   "source": [
    "for headlines in df.headlines:\n",
    "    df[headlines].replace(\"[,[\\n\\t\\t\\t\\t]]\")[:1]"
   ]
  },
  {
   "cell_type": "code",
   "execution_count": 40,
   "metadata": {},
   "outputs": [
    {
     "data": {
      "text/html": [
       "<div>\n",
       "<style scoped>\n",
       "    .dataframe tbody tr th:only-of-type {\n",
       "        vertical-align: middle;\n",
       "    }\n",
       "\n",
       "    .dataframe tbody tr th {\n",
       "        vertical-align: top;\n",
       "    }\n",
       "\n",
       "    .dataframe thead th {\n",
       "        text-align: right;\n",
       "    }\n",
       "</style>\n",
       "<table border=\"1\" class=\"dataframe\">\n",
       "  <thead>\n",
       "    <tr style=\"text-align: right;\">\n",
       "      <th></th>\n",
       "      <th>verticals</th>\n",
       "      <th>headlines</th>\n",
       "      <th>dates</th>\n",
       "      <th>author</th>\n",
       "      <th>description</th>\n",
       "    </tr>\n",
       "  </thead>\n",
       "  <tbody>\n",
       "    <tr>\n",
       "      <th>0</th>\n",
       "      <td>[World]</td>\n",
       "      <td>[ , [\\n\\t\\t\\t\\tFacebook apologises for role in...</td>\n",
       "      <td>[[May 14, 2020]]</td>\n",
       "      <td>[\\n\\t\\t\\t\\t\\t\\tReporter\\t\\t\\t\\t\\t]</td>\n",
       "      <td>[\\n\\t\\t\\t\\t\\tHONGKONG: Facebook has apologised...</td>\n",
       "    </tr>\n",
       "    <tr>\n",
       "      <th>1</th>\n",
       "      <td>[Sports]</td>\n",
       "      <td>[ , [\\n\\t\\t\\t\\tUruguayan newspaper gives footb...</td>\n",
       "      <td>[[Jan 1, 2019]]</td>\n",
       "      <td>[\\n\\t\\t\\t\\t\\t\\tReporter\\t\\t\\t\\t\\t]</td>\n",
       "      <td>[\\n\\t\\t\\t\\t\\tArgentine player Gonzalo \"Pity\" M...</td>\n",
       "    </tr>\n",
       "    <tr>\n",
       "      <th>2</th>\n",
       "      <td>[Entertainment]</td>\n",
       "      <td>[ , [\\n\\t\\t\\t\\tActress Priya Varrier most sear...</td>\n",
       "      <td>[[Dec 12, 2018]]</td>\n",
       "      <td>[\\n\\t\\t\\t\\t\\t\\tReporter\\t\\t\\t\\t\\t]</td>\n",
       "      <td>[\\n\\t\\t\\t\\t\\tNew Delhi: Malayalam actress Priy...</td>\n",
       "    </tr>\n",
       "    <tr>\n",
       "      <th>3</th>\n",
       "      <td>[Technology]</td>\n",
       "      <td>[ , [\\n\\t\\t\\t\\tAsian Games 2018: Weightlifter ...</td>\n",
       "      <td>[[Aug 7, 2018]]</td>\n",
       "      <td>[\\n\\t\\t\\t\\t\\t\\tReporter\\t\\t\\t\\t\\t]</td>\n",
       "      <td>[\\n\\t\\t\\t\\t\\tImphal, August 7: India's Asian G...</td>\n",
       "    </tr>\n",
       "    <tr>\n",
       "      <th>4</th>\n",
       "      <td>[Business]</td>\n",
       "      <td>[ , [\\n\\t\\t\\t\\tBadminton World Championship 20...</td>\n",
       "      <td>[[Jul 31, 2018]]</td>\n",
       "      <td>[\\n\\t\\t\\t\\t\\t\\tReporter\\t\\t\\t\\t\\t]</td>\n",
       "      <td>[\\n\\t\\t\\t\\t\\tNanjing, July 31: India's Kidambi...</td>\n",
       "    </tr>\n",
       "    <tr>\n",
       "      <th>5</th>\n",
       "      <td>[Lifestyle]</td>\n",
       "      <td>[ , [\\n\\t\\t\\t\\tVictor Wanyama, a Kenyan footba...</td>\n",
       "      <td>[[Jun 15, 2018]]</td>\n",
       "      <td>[\\n\\t\\t\\t\\t\\t\\tReporter\\t\\t\\t\\t\\t]</td>\n",
       "      <td>[\\n\\t\\t\\t\\t\\tThe smallest nation ever to play ...</td>\n",
       "    </tr>\n",
       "    <tr>\n",
       "      <th>6</th>\n",
       "      <td>[Automotive]</td>\n",
       "      <td>[ , [\\n\\t\\t\\t\\tBrazil arrive for 2018 FIFA Wor...</td>\n",
       "      <td>[[Jun 11, 2018]]</td>\n",
       "      <td>[\\n\\t\\t\\t\\t\\t\\tReporter\\t\\t\\t\\t\\t]</td>\n",
       "      <td>[\\n\\t\\t\\t\\t\\tSochi: The Brazilian football tea...</td>\n",
       "    </tr>\n",
       "    <tr>\n",
       "      <th>7</th>\n",
       "      <td>[Crime]</td>\n",
       "      <td>[ , [\\n\\t\\t\\t\\tIPL 2018: SRH defeat Kohli’s RC...</td>\n",
       "      <td>[[May 8, 2018]]</td>\n",
       "      <td>[\\n\\t\\t\\t\\t\\t\\tEBM News English\\t\\t\\t\\t\\t]</td>\n",
       "      <td>[\\n\\t\\t\\t\\t\\tHyderabad: The Sunrisers Hyderaba...</td>\n",
       "    </tr>\n",
       "    <tr>\n",
       "      <th>8</th>\n",
       "      <td>[\\n, [],  ]</td>\n",
       "      <td>[ , [\\n\\t\\t\\t\\t2018 IPL: KL Rahul fires warnin...</td>\n",
       "      <td>[[Apr 17, 2018]]</td>\n",
       "      <td>[\\n\\t\\t\\t\\t\\t\\tEBM News English\\t\\t\\t\\t\\t]</td>\n",
       "      <td>[\\n\\t\\t\\t\\t\\tMohali: Kings XI Punjab opener Lo...</td>\n",
       "    </tr>\n",
       "    <tr>\n",
       "      <th>9</th>\n",
       "      <td>[[Home], []]</td>\n",
       "      <td>[ , [\\n\\t\\t\\t\\tIPL 2018, KXIP vs CSK: MS Dhoni...</td>\n",
       "      <td>[[Apr 16, 2018]]</td>\n",
       "      <td>[\\n\\t\\t\\t\\t\\t\\tEBM News English\\t\\t\\t\\t\\t]</td>\n",
       "      <td>[\\n\\t\\t\\t\\t\\tMohali: Chennai Super Kings (CSK)...</td>\n",
       "    </tr>\n",
       "  </tbody>\n",
       "</table>\n",
       "</div>"
      ],
      "text/plain": [
       "         verticals                                          headlines  \\\n",
       "0          [World]  [ , [\\n\\t\\t\\t\\tFacebook apologises for role in...   \n",
       "1         [Sports]  [ , [\\n\\t\\t\\t\\tUruguayan newspaper gives footb...   \n",
       "2  [Entertainment]  [ , [\\n\\t\\t\\t\\tActress Priya Varrier most sear...   \n",
       "3     [Technology]  [ , [\\n\\t\\t\\t\\tAsian Games 2018: Weightlifter ...   \n",
       "4       [Business]  [ , [\\n\\t\\t\\t\\tBadminton World Championship 20...   \n",
       "5      [Lifestyle]  [ , [\\n\\t\\t\\t\\tVictor Wanyama, a Kenyan footba...   \n",
       "6     [Automotive]  [ , [\\n\\t\\t\\t\\tBrazil arrive for 2018 FIFA Wor...   \n",
       "7          [Crime]  [ , [\\n\\t\\t\\t\\tIPL 2018: SRH defeat Kohli’s RC...   \n",
       "8      [\\n, [],  ]  [ , [\\n\\t\\t\\t\\t2018 IPL: KL Rahul fires warnin...   \n",
       "9     [[Home], []]  [ , [\\n\\t\\t\\t\\tIPL 2018, KXIP vs CSK: MS Dhoni...   \n",
       "\n",
       "              dates                                      author  \\\n",
       "0  [[May 14, 2020]]          [\\n\\t\\t\\t\\t\\t\\tReporter\\t\\t\\t\\t\\t]   \n",
       "1   [[Jan 1, 2019]]          [\\n\\t\\t\\t\\t\\t\\tReporter\\t\\t\\t\\t\\t]   \n",
       "2  [[Dec 12, 2018]]          [\\n\\t\\t\\t\\t\\t\\tReporter\\t\\t\\t\\t\\t]   \n",
       "3   [[Aug 7, 2018]]          [\\n\\t\\t\\t\\t\\t\\tReporter\\t\\t\\t\\t\\t]   \n",
       "4  [[Jul 31, 2018]]          [\\n\\t\\t\\t\\t\\t\\tReporter\\t\\t\\t\\t\\t]   \n",
       "5  [[Jun 15, 2018]]          [\\n\\t\\t\\t\\t\\t\\tReporter\\t\\t\\t\\t\\t]   \n",
       "6  [[Jun 11, 2018]]          [\\n\\t\\t\\t\\t\\t\\tReporter\\t\\t\\t\\t\\t]   \n",
       "7   [[May 8, 2018]]  [\\n\\t\\t\\t\\t\\t\\tEBM News English\\t\\t\\t\\t\\t]   \n",
       "8  [[Apr 17, 2018]]  [\\n\\t\\t\\t\\t\\t\\tEBM News English\\t\\t\\t\\t\\t]   \n",
       "9  [[Apr 16, 2018]]  [\\n\\t\\t\\t\\t\\t\\tEBM News English\\t\\t\\t\\t\\t]   \n",
       "\n",
       "                                         description  \n",
       "0  [\\n\\t\\t\\t\\t\\tHONGKONG: Facebook has apologised...  \n",
       "1  [\\n\\t\\t\\t\\t\\tArgentine player Gonzalo \"Pity\" M...  \n",
       "2  [\\n\\t\\t\\t\\t\\tNew Delhi: Malayalam actress Priy...  \n",
       "3  [\\n\\t\\t\\t\\t\\tImphal, August 7: India's Asian G...  \n",
       "4  [\\n\\t\\t\\t\\t\\tNanjing, July 31: India's Kidambi...  \n",
       "5  [\\n\\t\\t\\t\\t\\tThe smallest nation ever to play ...  \n",
       "6  [\\n\\t\\t\\t\\t\\tSochi: The Brazilian football tea...  \n",
       "7  [\\n\\t\\t\\t\\t\\tHyderabad: The Sunrisers Hyderaba...  \n",
       "8  [\\n\\t\\t\\t\\t\\tMohali: Kings XI Punjab opener Lo...  \n",
       "9  [\\n\\t\\t\\t\\t\\tMohali: Chennai Super Kings (CSK)...  "
      ]
     },
     "execution_count": 40,
     "metadata": {},
     "output_type": "execute_result"
    }
   ],
   "source": [
    "df"
   ]
  },
  {
   "cell_type": "code",
   "execution_count": null,
   "metadata": {},
   "outputs": [],
   "source": []
  },
  {
   "cell_type": "code",
   "execution_count": null,
   "metadata": {},
   "outputs": [],
   "source": []
  }
 ],
 "metadata": {
  "kernelspec": {
   "display_name": "Python 3",
   "language": "python",
   "name": "python3"
  },
  "language_info": {
   "codemirror_mode": {
    "name": "ipython",
    "version": 3
   },
   "file_extension": ".py",
   "mimetype": "text/x-python",
   "name": "python",
   "nbconvert_exporter": "python",
   "pygments_lexer": "ipython3",
   "version": "3.8.5"
  }
 },
 "nbformat": 4,
 "nbformat_minor": 4
}
